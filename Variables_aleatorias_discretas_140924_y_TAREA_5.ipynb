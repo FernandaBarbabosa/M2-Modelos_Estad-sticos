{
  "cells": [
    {
      "cell_type": "markdown",
      "metadata": {
        "id": "view-in-github",
        "colab_type": "text"
      },
      "source": [
        "<a href=\"https://colab.research.google.com/github/FernandaBarbabosa/M2-Modelos_Estadisticos/blob/main/Variables_aleatorias_discretas_140924_y_TAREA_5.ipynb\" target=\"_parent\"><img src=\"https://colab.research.google.com/assets/colab-badge.svg\" alt=\"Open In Colab\"/></a>"
      ]
    },
    {
      "cell_type": "markdown",
      "id": "d50d92d5",
      "metadata": {
        "id": "d50d92d5"
      },
      "source": [
        "# Variables aleatorias discretas"
      ]
    },
    {
      "cell_type": "code",
      "source": [
        "import numpy as np #Importamos el modulo Numpy\n",
        "import numpy.random as npr #Importamos un submódulo de Numpy que se utiliza para generar números aleatorios\n",
        "\n",
        "import scipy.stats as sps #Importar el módulo SciPy\n",
        "from scipy.stats import randint #Para trabajar con una distribución uniforme discretaen un rango de enteros, funcion randint\n",
        "\n",
        "\n",
        "import matplotlib.pyplot as plt #matplotlib es una biblioteca de visualización de datos en Python\n",
        "import random #Random es el módulo estándar de Python para la generación de númepros aleatorios\n",
        "\n",
        "#warninigs es un módulo de Python que permite gestionar y controlar los mensajes de advertencias (warnings) que el código podría generar\n",
        "import warnings\n",
        "warnings.filterwarnings('ignore')"
      ],
      "metadata": {
        "id": "5MNyA37_snHi"
      },
      "id": "5MNyA37_snHi",
      "execution_count": 2,
      "outputs": []
    },
    {
      "cell_type": "markdown",
      "id": "bd499bb5",
      "metadata": {
        "id": "bd499bb5"
      },
      "source": [
        "# Variable aleatoria uniforme discreta\n",
        "\n",
        "Una variable aleatoria $X$ tiene distribución uniforme discreta en el conjunto $\\{x_{1},\\dots,x_{n}\\}$ si su función de masa de probabilidades está dada por\n",
        "$$f_{X}(k)=\\mathbb{P}(X=k)=\\begin{cases}\n",
        "\\frac{1}{n} &\\quad \\text{si } k\\in\\{x_{1},\\dots,x_{n}\\} \\\\\n",
        "0 &\\quad \\text{en otro caso}\n",
        "\\end{cases}$$\n",
        "\n",
        "**Notación:** $X\\sim Unif(x_{1},\\dots,x_{n}).$\n",
        "\n",
        "Se llama uniforme porque cada uno de los posibles valores de $X$ tienen la misma probabilidad.\n",
        "\n",
        "Si $X\\sim Unif(x_{1},\\dots,x_{n})$, en este caso, se tiene:\n",
        "\t$$\\mathbb{E}[X] = \\sum_{k}kf_{X}(k)=\\frac{x_n + x_1}{2}.$$\n",
        "\ty\n",
        "\t$$\\text{Var}(X) = \\mathbb{E}[(X-\\mathbb{E}[X])^{2}] =\\sum_{k}(k-\\mathbb{E}[X])^{2}f_{X}(k)=\\frac{(x_n - x_1+1)^2-1}{12}$$\n",
        "\n",
        "$\\color{red}{\\text{Ejercicio 1.}}$ Verifica que, en efecto, la esperanza y varianza de una variable aleatoria geométrica está dada como antes.\n",
        "    \n",
        "**Ejemplo** Se lleva a cabo una rifa donde los boletos están enumerados del $00$ al $99$. Si $Y$ es la variable aleatoria definida como el número del boleto ganador, entonces:  \n",
        "$$\\mathbb{P}(Y=k)=\\begin{cases}\n",
        "\t\\frac{1}{100} &\\quad \\text{si } k=00,01,\\dots,99 \\\\\n",
        "\t0 &\\quad \\text{en otro caso}\n",
        "\\end{cases}$$\n",
        "Consideremos que el premio de la rifa se determina a partir del número premiado de la siguiente forma: $X=Y+1$, donde $X$ es el monto del premio en pesos y $Y$ es el número premiado, entonces $X$ es una variable aleatoria, pues es una función de $Y$, y además se tiene\n",
        "\t$$f_{X}(k)=\\begin{cases}\n",
        "\t\t\\frac{1}{100} &\\quad \\text{si } x=1,2,\\dots,100 \\\\\n",
        "\t\t0 &\\quad \\text{en otro caso}\n",
        "\t\\end{cases}$$\n",
        "Entonces, la esperanza y varianza de $X$ están dados por:\n",
        "\t$$\\mathbb{E}[X] = \\sum_{k=1}^{100}k\\left(\\frac{1}{100}\\right) = \\frac{1}{100}\\sum_{k=1}^{100}k = \\frac{1}{100}\\left[\\frac{100(100+1)}{2}\\right] = 50.5$$\n",
        "\ty\n",
        "\t$$\\text{Var}(X) = \\mathbb{E}[X^{2}]-(\\mathbb{E}[X])^{2} = \\sum_{k=1}^{100}k^{2}\\left(\\frac{1}{100}\\right)-(50.5)^{2} = 833.25$$   \n",
        "\n",
        "\n",
        "    \n",
        "Supongamos que nos interesa calcular la probabilidad de que el premio sea mayor a $\\$80$, entonces\n",
        "\t$$\\mathbb{P}(X>80) = \\sum_{k=81}^{100}\\frac{1}{100} = \\frac{20}{100} = 0.2$$\n",
        "\tSu función de distribución esta dada por:\n",
        "\t$$F_{X}(x)=\\mathbb{P}(X\\le x)=\\begin{cases}\n",
        "\t\t0 &\\quad \\text{si } x<1 \\\\\n",
        "\t\t\\frac{x}{100} &\\quad \\text{si } x=1,2,\\dots,100\\\\ 1 &\\quad \\text{si } x>100\n",
        "\t\\end{cases}$$     "
      ]
    },
    {
      "cell_type": "markdown",
      "source": [
        "$\\color{red}{\\text{Ejercicio 2.}}$ Dibuja a la función de distribución acumulada de la variable aleatoria:\n",
        "$$S:\\{1,2,3,4,5,6\\}^{2}\\to \\{2, 3, 4, 5, 6, 7, 8, 9, 10, 11, 12 \\}$$\n",
        "dada por\n",
        "$S(i,j)=i+j.$"
      ],
      "metadata": {
        "id": "UAQy3d5scoHX"
      },
      "id": "UAQy3d5scoHX"
    },
    {
      "cell_type": "code",
      "source": [
        "# Definir el rango de la distribución uniforme discreta [low, high)\n",
        "low = 1  # límite inferior (incluido en el rango)\n",
        "high = 10  # límite superior (excluido del rango)\n",
        "#rango [1,10)\n",
        "\n",
        "# Generar 10 muestras de una uniforme discreta\n",
        "samples = randint.rvs(low, high, size=10)\n",
        "\n",
        "print(\"Muestras generadas:\", samples)"
      ],
      "metadata": {
        "colab": {
          "base_uri": "https://localhost:8080/"
        },
        "id": "F_Cl8SpE-Abq",
        "outputId": "b01b8440-2db6-4822-d161-141e38147d21"
      },
      "id": "F_Cl8SpE-Abq",
      "execution_count": 3,
      "outputs": [
        {
          "output_type": "stream",
          "name": "stdout",
          "text": [
            "Muestras generadas: [2 8 2 4 5 6 6 4 5 5]\n"
          ]
        }
      ]
    },
    {
      "cell_type": "code",
      "source": [
        "# Definir el rango de la distribución uniforme discreta [low, high)\n",
        "low = 1  # límite inferior (incluido)\n",
        "high = 10  # límite superior (excluido)\n",
        "\n",
        "# Crear los valores posibles dentro del rango\n",
        "x = np.arange(low, high)\n",
        "\n",
        "# Obtener la función de masa de probabilidad (FMP)\n",
        "pmf = randint.pmf(x, low, high)\n",
        "\n",
        "# Graficar la FMP\n",
        "plt.stem(x, pmf, basefmt=\" \", use_line_collection=True)\n",
        "plt.xlabel('Valores')\n",
        "plt.ylabel('Probabilidad')\n",
        "plt.title('Función de Masa de Probabilidad de una Uniforme Discreta')\n",
        "plt.grid(True)\n",
        "plt.show()"
      ],
      "metadata": {
        "colab": {
          "base_uri": "https://localhost:8080/",
          "height": 472
        },
        "id": "FQ7cj86l-I_T",
        "outputId": "f4575e83-2e71-497c-b8d8-440e10800445"
      },
      "id": "FQ7cj86l-I_T",
      "execution_count": 4,
      "outputs": [
        {
          "output_type": "display_data",
          "data": {
            "text/plain": [
              "<Figure size 640x480 with 1 Axes>"
            ],
            "image/png": "[encoded data removed]"
          },
          "metadata": {}
        }
      ]
    },
    {
      "cell_type": "markdown",
      "id": "1a2446e2",
      "metadata": {
        "id": "1a2446e2"
      },
      "source": [
        "## Variable aleatoria Bernoulli con parámetro $p\\in (0,1)$.\n",
        "\n",
        "El modelo probabilístico Bernoulli se aplica a un experimento cuyo espacio muestral está constituido sólo por dos resultados posibles, éxito y fracaso:\n",
        "\n",
        "Se considerará una v.a $X$ sobre el espacio muestral $$\\Omega=\\{\\text{éxito, fracaso}\\}$$\n",
        "de tal forma que\n",
        "* $X(\\{\\text{éxito}\\}) = 1$\n",
        "* $X(\\{\\text{fracaso}\\}) = 0$\n",
        "\n",
        "Las probabilidades asociadas a este modelo son:\n",
        "\n",
        "* $\\mathbb{P}(\\{\\text{éxito}\\}) = p$\n",
        "* $\\mathbb{P}(\\{\\text{fracaso}\\}) = 1-p$\n",
        "\n",
        "donde $0<p<1$.\n",
        "\n",
        "\n",
        "Entonces la función de densidad de masa de probabilidades de $X$ está dada por:\n",
        "\n",
        "$$f_{X}(k)=\\begin{cases}\n",
        "p &\\quad \\text{si } k=1 \\\\\n",
        "1-p &\\quad \\text{si } k=0\n",
        "\\end{cases}$$\n",
        "\n",
        "**Notación:** $X\\sim \\text{Ber}(p)$.\n",
        "\n",
        "Esta variable aleatoria es muy importante. En la practica es usada para modelar situaciones en las cuales hay dos posibles resultados como:\n",
        "* el estado de un teléfono en un momento dado: libre u ocupado.\n",
        "* una persona pueda estar enferma o sana de una determinada enfermedad.\n",
        "* la preferencia de una persona, la cual puede estar a favor o en contra de un candidato determinado.\n",
        "\n",
        "Mediante la combinación de variables aleatorias Bernoulli es posible construir otras variables aleatorias.\n",
        "\n",
        "### Esperanza y Varianza\n",
        "\n",
        "Si $X\\sim \\text{Ber}(p)$, entonces su esperanza es:\n",
        "\\begin{align*}\n",
        "\\mathbb{E}[X] = \\sum_{k=0}^{1}kf_{X}(k) = 1\\cdot p + 0\\cdot (1-p) = p.\n",
        "\\end{align*}\n",
        "\n",
        "Y su varianza se calcula usando,\n",
        "$$\\mathbb{E}[X^{2}] = \\sum_{k=0}^{1}k^{2}f_{X}(k) = 1^{2}\\cdot p + 0^{2}\\cdot (1-p) = p.$$\n",
        "Por lo tanto,\n",
        "$$\\text{Var}(X)=\\mathbb{E}[X^{2}]-(\\mathbb{E}[X])^{2} = p-p^{2} = p(1-p)$$\n",
        "\n"
      ]
    },
    {
      "cell_type": "code",
      "source": [
        "from  scipy.stats import bernoulli\n",
        "import numpy as np\n",
        "import matplotlib.pyplot as plt\n",
        "\n",
        "#Definimos la probabilidad\n",
        "p=0.3\n",
        "\n",
        "#Calculo de la función\n",
        "x=[0,1]\n",
        "print(\"Función de densidad=\", bernoulli.pmf(x,p))\n",
        "\n",
        "#Gráfica de la función de densidad\n",
        "plt.bar(x, bernoulli.pmf(x,p), width=0.08,color='lightblue')\n",
        "plt.xlabel(\"Valores\")\n",
        "plt.ylabel(\"Probabilidad\")\n",
        "plt.title(\"Distribución bernoulli con p =0.3\")\n",
        "plt.show()\n",
        "\n",
        "#Calculo de esperanza\n",
        "print(\"Esperanza=\", bernoulli.mean(p))\n",
        "\n",
        "#Calculo de varianza\n",
        "print(\"Varianza=\", bernoulli.var(p))"
      ],
      "metadata": {
        "colab": {
          "base_uri": "https://localhost:8080/",
          "height": 524
        },
        "id": "9AdQfaj1h4TX",
        "outputId": "7ec84965-9ed4-48c4-b684-0115a2f8a1fe"
      },
      "id": "9AdQfaj1h4TX",
      "execution_count": 5,
      "outputs": [
        {
          "output_type": "stream",
          "name": "stdout",
          "text": [
            "Función de densidad= [0.7 0.3]\n"
          ]
        },
        {
          "output_type": "display_data",
          "data": {
            "text/plain": [
              "<Figure size 640x480 with 1 Axes>"
            ],
            "image/png": "[encoded data removed]"
          },
          "metadata": {}
        },
        {
          "output_type": "stream",
          "name": "stdout",
          "text": [
            "Esperanza= 0.3\n",
            "Varianza= 0.21\n"
          ]
        }
      ]
    },
    {
      "cell_type": "markdown",
      "id": "5effadd4",
      "metadata": {
        "id": "5effadd4"
      },
      "source": [
        "## Variable aleatoria Binomial con parámetros $n$ y $p\\in (0,1)$.\n",
        "\n",
        "Decimos que una v.a $X$ tiene distribución binomial con párametros $n$ y $p$, si su función de densidad de masa de probabilidades está dada por:\n",
        "$$\\begin{equation*}\n",
        "\tf_{X}(k)=\\begin{cases}\n",
        "\t\\binom{n}{k}p^{k}(1-p)^{n-k} &\\quad \\text{si } k=0,1,\\dots,n \\\\\n",
        "\t\\qquad 0 &\\quad \\text{en otro caso}  \n",
        "\t\\end{cases}\n",
        "\\end{equation*}$$\n",
        "donde $n$ es un entero positivo y $0< p< 1$.\n",
        "\n",
        "La esperanza de $X$ es:\n",
        "\\begin{align*}\n",
        "\\mathbb{E}[X]&= \\sum_{k \\mathop = 0}^n k \\binom n k p^k (1-p)^{n - k}\\\\\n",
        "&=\\sum_{k \\mathop = 1}^n k \\binom n k p^k (1-p)^{n - k}\\\\\n",
        "&= \\sum_{k \\mathop = 1}^n n \\binom {n - 1} {k - 1} p^k (1-p)^{n - k}\\\\\n",
        "&= n p \\sum_{k \\mathop = 1}^n \\binom {n - 1} {k - 1} p^{k - 1} (1-p)^{( {n - 1}) - ( {k - 1}) }\\\\\n",
        "&=n p \\sum_{j \\mathop = 0}^m \\binom m j p^j (1-p)^{m - j}\\\\\n",
        "&=np\n",
        "\\end{align*}\n",
        "\n",
        "Ahora,\n",
        "\\begin{align*}\n",
        "\\mathbb{E}[X^2]&= \\sum_{k \\mathop = 0}^n k^2 \\binom n k p^k (1-p)^{n - k}\\\\\n",
        "&=\\sum_{k \\mathop = 0}^n k n \\binom {n - 1} {k - 1} p^k (1-p)^{n - k}\\\\\n",
        "&= n p \\sum_{k \\mathop = 1}^n k \\binom {n - 1} {k - 1} p^{k - 1} (1-p)^{({n - 1}) - ({k - 1}) }\\\\\n",
        "&= n p \\sum_{j \\mathop = 0}^m ({j + 1}) \\binom m j p^j (1-p)^{m - j}\\\\\n",
        "&=n p \\left( {\\sum_{j \\mathop = 0}^m j \\binom m j p^j (1-p)^{m - j} + \\sum_{j \\mathop = 0}^m \\binom m j p^j (1-p)^{m - j} }\\right)\\\\\n",
        "&=n p \\left( {\\sum_{j \\mathop = 0}^m m \\binom {m - 1} {j - 1} p^j (1-p)^{m - j} + \\sum_{j \\mathop = 0}^m \\binom m j p^j (1-p)^{m - j} }\\right)\\\\\n",
        "&= n p \\left( (n - 1) p \\sum_{j \\mathop = 1}^m \\binom {m - 1}{j - 1} p^{j - 1} (1-p)^{( {m - 1}) - ({j - 1}) } + \\sum_{j \\mathop = 0}^m \\binom m j p^j (1-p)^{m - j}\\right) \\\\\n",
        "&= n p \\left( (n - 1) p (p + (1-p))^{m - 1} + (p + (1-p))^m\\right)\\\\\n",
        "&= n p ((n - 1) p + 1)\\\\\n",
        "&= (np)^2 +np(1-p),\n",
        "\\end{align*}\n",
        "\n",
        "por lo que la varianza de $X$ es:\n",
        "$$\\text{Var}(X)=np(1-p).$$\n",
        "\n",
        "\n",
        "**Ejemplo** Una moneda no justa se tira 6 veces, donde la probabilidad de obtener sol es de $0.3$. Sea $X$ el número de veces que cae sol, entonces $X$ tiene una distribución binomial con parámetros $n=6$ y $p=0.3$. Por lo que\n",
        "$$\\begin{align*}\n",
        "\\mathbb{P}(X=2) &= \\binom{6}{2}(0.3)^{2}(0.7)^{4}=0.3241 \\\\\n",
        "\\mathbb{P}(X=3) &= \\binom{6}{3}(0.3)^{3}(0.7)^{3}=0.1852 \\\\\n",
        "\\mathbb{P}(1<X\\le 5) &= \\mathbb{P}(X=2)+\\mathbb{P}(X=3)+\\mathbb{P}(X=4)+\\mathbb{P}(X=5) \\\\\n",
        "\t\t\t&= 0.3241 + 0.1852 + \\binom{6}{4}(0.3)^{4}(0.7)^{2} + \\binom{6}{5}(0.3)^{5}(0.7)^{1} \\\\\n",
        "\t\t\t&= 0.5093 + 0.0595 + 0.0102 = 0.579\n",
        "\\end{align*}$$"
      ]
    },
    {
      "cell_type": "markdown",
      "source": [
        "Note que la probabilidad $$\\mathbb{P}(1<X\\leq 5)=F_{X}(5)-F_{X}(1).$$"
      ],
      "metadata": {
        "id": "hzmozY9DZxIU"
      },
      "id": "hzmozY9DZxIU"
    },
    {
      "cell_type": "markdown",
      "source": [
        "Usando el atributo `.cdf` podemos calcular la probabilidad anterior:"
      ],
      "metadata": {
        "id": "pfaajS8Kmr8E"
      },
      "id": "pfaajS8Kmr8E"
    },
    {
      "cell_type": "code",
      "source": [
        "from scipy.stats import binom\n",
        "\n",
        "binom.cdf(5,6,0.3) #Calcula la probabilidad acumulada de que haya 5 o menos éxitos en 6 ensayos\n",
        "binom.cdf(1,6,0.3) #Calcula la probabilidad acumulada de que haya 1 o menos éxitos en 6 ensayos\n",
        "binom.cdf(5,6,0.3)-binom.cdf(1,6,0.3) #Calcula la probabilidad acumulada"
      ],
      "metadata": {
        "colab": {
          "base_uri": "https://localhost:8080/"
        },
        "id": "nPf1UNnjlxYF",
        "outputId": "1024555b-307a-4440-816d-07c1adebb76c"
      },
      "id": "nPf1UNnjlxYF",
      "execution_count": 6,
      "outputs": [
        {
          "output_type": "execute_result",
          "data": {
            "text/plain": [
              "0.5790960000000003"
            ]
          },
          "metadata": {},
          "execution_count": 6
        }
      ]
    },
    {
      "cell_type": "markdown",
      "source": [
        "Vamos a graficar la función de densidad de la binomial"
      ],
      "metadata": {
        "id": "ODTuay7Mo4qm"
      },
      "id": "ODTuay7Mo4qm"
    },
    {
      "cell_type": "code",
      "source": [
        "import scipy.stats as sps\n",
        "import matplotlib.pyplot as plt\n",
        "import numpy as np\n",
        "#Datos iniciales\n",
        "#La gráfica indica que de 100,000 muestras de 25 tiros catda una , los éxitos que más se pueden obtener son 7\n",
        "n=25 #Número de ensayos bernoulli\n",
        "p=0.3 #Probabilidad de éxito\n",
        "s=100000 #Número de muestras\n",
        "\n",
        "binom_numeros= sps.binom.rvs(n,p,size=s) #Generamos las muestras para la v.a. binomiales\n",
        "# binom.rvs(n,p,size=s) genera números aleatorios que siguen una distribución binomial\n",
        "\n",
        "#Crear histograma\n",
        "plt.figure (figsize=(10,6)) #Tamaño de la figura, 10 ancho y 6 alto\n",
        "plt.hist(\n",
        "    binom_numeros,\n",
        "    density=True, #Normaliza para que la suma sea 1\n",
        "    bins=(len(np.unique(binom_numeros))),#Establece ele número de barras del histograma\n",
        "    color='lightcoral', #Color de las barras\n",
        "    edgecolor='white' #Color de los bordes\n",
        ")\n",
        "plt.title('Distribución binomial (25,0.3)')\n",
        "plt.xlabel('Valores')\n",
        "plt.ylabel('Probabilidad')\n",
        "plt.xticks(np.arange(min(binom_numeros), max(binom_numeros)+1, 1))\n",
        "plt.show()"
      ],
      "metadata": {
        "colab": {
          "base_uri": "https://localhost:8080/",
          "height": 564
        },
        "id": "6NOQmr-qorQ6",
        "outputId": "879356f0-461a-4e22-ba56-62022e64f0cd"
      },
      "id": "6NOQmr-qorQ6",
      "execution_count": 7,
      "outputs": [
        {
          "output_type": "display_data",
          "data": {
            "text/plain": [
              "<Figure size 1000x600 with 1 Axes>"
            ],
            "image/png": "[encoded data removed]"
          },
          "metadata": {}
        }
      ]
    },
    {
      "cell_type": "markdown",
      "source": [
        "# Variable aleatoria Poisson\n",
        "\n",
        "Es una distribución de probabilidad discreta que  sirve para calcular la probabilidad de que ocurra un determinado número de eventos raros durante un intervalo dado (puede ser de tiempo, longitud, área, etc.\n",
        "\n",
        "Esta variable aleatoria toma los valores sobre el conjunto $\\{0,1,2,\\dots\\}$ y tiene un parámetro $\\lambda>0$, el cual representa el número de veces que se espera que ocurra un evento durante un intervalo dado.\n",
        "\n",
        "La función de masa de probabilidades de una variable aleatoria Poisson, $X$, está dada por:\n",
        "$$f_{X}(k)=\\begin{cases}\n",
        "\te^{-\\lambda}\\frac{\\lambda^{k}}{k!} &\\quad \\text{si } k=0,1,2,\\dots \\\\\n",
        "\t0 &\\quad \\text{en otro caso}  \n",
        "\\end{cases}$$\n",
        "\n",
        "En efecto, es una función de masa de probabilidades debido a que\n",
        "$$\\begin{align*}\n",
        "\\sum_{k=0}^{\\infty}e^{-\\lambda}\\frac{\\lambda^{k}}{k!} &= e^{-\\lambda}\\sum_{k=0}^{\\infty}\\frac{\\lambda^{k}}{k!} \\\\ &= e^{-\\lambda}\\underbrace{\\left(1+\\lambda+\\frac{\\lambda^{2}}{2!}+\\frac{\\lambda^{3}}{3!}+\\cdots\\right)}_{\\text{desarrollo de Taylor de }e^{\\lambda}} \\\\ &= e^{-\\lambda}e^{\\lambda}=1.\n",
        "\\end{align*}$$\n",
        "\n",
        "**Aplicaciones**\n",
        "\n",
        "**Ejemplo:** Supongamos que el número de accidentes que ocurre en un punto tiene una distribución Poisson con parámetro $\\lambda=2$.\n",
        "* ¿Cuál es la probabilidad de que en un día ocurran más de dos accidentes?\n",
        "  $$\\begin{align*}\n",
        "\t\\mathbb{P}(X>2) &= 1-\\mathbb{P}(X\\le 2) \\\\ &=1-\\left[\\mathbb{P}(X=0)+\\mathbb{P}(X=1)+\\mathbb{P}(X=2)\\right] \\\\ &= 1-\\left[\\frac{e^{-2}2^{0}}{0!}+\\frac{e^{-2}2^{1}}{1!}+\\frac{e^{-2}2^{2}}{2!}\\right] \\\\ &= 1-e^{-2}\\left[1+2+2\\right] = 1-5e^{-2} = 0.3233\n",
        "  \\end{align*}$$\n",
        "\n",
        "* ¿Cuál es la probabilidad de que en un día ocurran más de dos accidentes, sabiendo que ocurre por lo menos uno?\n",
        "$$\\begin{align*}\n",
        "\\mathbb{P}(X>2 \\mid X\\ge 1) = \\frac{\\mathbb{P}(X>2 \\cap X\\ge 1)}{\\mathbb{P}(X\\ge 1)} =  \\frac{\\mathbb{P}(X>2)}{\\mathbb{P}(X\\ge 1)} = \\frac{1- \\mathbb{P}(X\\le 2)}{1- \\mathbb{P}(X<1)}= \\frac{1-5e^{-2}}{1-e^{-2}} = \\frac{0.3233}{0.8646} = 0.3739\n",
        "\\end{align*}$$\n",
        "\n",
        "ya que $\\mathbb{P}(X\\ge 1)=1-\\mathbb{P}(X<1)=1-\\mathbb{P}(X=0)=1-e^{-2}$\n",
        "\n",
        "\n",
        "\n"
      ],
      "metadata": {
        "id": "73pLB0Hmg5e4"
      },
      "id": "73pLB0Hmg5e4"
    },
    {
      "cell_type": "markdown",
      "source": [
        "###$\\color{red}{\\text{Ejercicio 3.}}$###\n",
        "Usando el atributo `.cdf` [Poisson](https://docs.scipy.org/doc/scipy/reference/generated/scipy.stats.poisson.html) calcula las probabilidades anteriores.\n",
        "##¿Cuales son los parametros de poisson.cdf($x$,$\\lambda$)?\n",
        "*  $x$: el valor para el cual se quiere calcular la probabilidad acumulada.  \n",
        "*  $\\lambda$: la media de la distribución de Poisson."
      ],
      "metadata": {
        "id": "laV6HBcJefDK"
      },
      "id": "laV6HBcJefDK"
    },
    {
      "cell_type": "code",
      "source": [
        "print(\"1. Calculando la probabilidad de que en un día ocurran más de dos accidentes P(X>2)\\n\")\n",
        "from scipy.stats import poisson\n",
        "\n",
        "#Usando .cdf\n",
        "print(\"\\nObteniendo la P(X>2) por complemento utilizando la función de distrubución acumulada (CDF) tenemos que:\\n\")\n",
        "print(\"P(X>2)= 1 -P(X<=2)\",1-poisson.cdf(2,2))\n",
        "\n",
        "#Desarrollando P(X<=2), utilizando la función de densidad obtenemos P(X=0),P(X=1),P(X=2)\n",
        "print(\"\\nObteniendo el resultado usando la función de densidad (PDF) para comprobar lo anterior,entonces 1 - [P(X=0)+P(X=1)+P(X=2)]\\n \")\n",
        "p0=poisson.pmf(0,2)\n",
        "p1=poisson.pmf(1,2)\n",
        "p2=poisson.pmf(2,2)\n",
        "print(\"P(X=0)=\",p0)\n",
        "print(\"P(X=1)=\",p1)\n",
        "print(\"P(X=2)=\",p2)\n",
        "print(\"P(X<=2)= P(X=0)+P(X=1)+P(X=2)\",p0+p1+p2)\n",
        "#Calculando P(x>2)=1-P(X<=2)\n",
        "print(\"P(X>2)= 1 - [P(X=0)+P(X=1)+P(X=2)] = \",1-(p0+p1+p2))\n",
        "\n",
        "\n",
        "print(\"\\n2. Calculando la probabilidad de que en un día ocurran más de dos accidentes sabiendo que ocurre por lo menos uno P(X>2|X>=1)\\n\")\n",
        "\n",
        "#calculamos 1-P(X<=2)\n",
        "pm2=1-poisson.cdf(2,2)\n",
        "print(\"P(X>2)= 1 -P(X<=2) = \",pm2)\n",
        "\n",
        "##calculamos 1-P(X<1)\n",
        "pm1=1-poisson.cdf(0,2)\n",
        "print(\"P(X>=1)= 1 -P(X<1) = \",pm1)\n",
        "\n",
        "#Calculando lal probabilidad final\n",
        "print(\"P(X>2|X>=1) = P(X>2)/P(X>=1) = \",pm2/pm1)\n",
        "\n"
      ],
      "metadata": {
        "colab": {
          "base_uri": "https://localhost:8080/"
        },
        "id": "wbxi5IB44Pcf",
        "outputId": "92487ef0-b1e7-45d5-e7de-5420db6862c4"
      },
      "id": "wbxi5IB44Pcf",
      "execution_count": 8,
      "outputs": [
        {
          "output_type": "stream",
          "name": "stdout",
          "text": [
            "1. Calculando la probabilidad de que en un día ocurran más de dos accidentes P(X>2)\n",
            "\n",
            "\n",
            "Obteniendo la P(X>2) por complemento utilizando la función de distrubución acumulada (CDF) tenemos que:\n",
            "\n",
            "P(X>2)= 1 -P(X<=2) 0.3233235838169366\n",
            "\n",
            "Obteniendo el resultado usando la función de densidad (PDF) para comprobar lo anterior,entonces 1 - [P(X=0)+P(X=1)+P(X=2)]\n",
            " \n",
            "P(X=0)= 0.1353352832366127\n",
            "P(X=1)= 0.2706705664732254\n",
            "P(X=2)= 0.2706705664732254\n",
            "P(X<=2)= P(X=0)+P(X=1)+P(X=2) 0.6766764161830635\n",
            "P(X>2)= 1 - [P(X=0)+P(X=1)+P(X=2)] =  0.3233235838169365\n",
            "\n",
            "2. Calculando la probabilidad de que en un día ocurran más de dos accidentes sabiendo que ocurre por lo menos uno P(X>2|X>=1)\n",
            "\n",
            "P(X>2)= 1 -P(X<=2) =  0.3233235838169366\n",
            "P(X>=1)= 1 -P(X<1) =  0.8646647167633873\n",
            "P(X>2|X>=1) = P(X>2)/P(X>=1) =  0.37392942900133747\n"
          ]
        }
      ]
    },
    {
      "cell_type": "markdown",
      "source": [
        "## Aproximación de Poisson a la Binomial\n",
        "La distribución de Poisson es una forma límite de la distribución binomial, es decir, es una buena aproximación cuando $n$ es suficientemente grande y $p$ suficientemente pequeña.\n",
        "\n",
        "$\\textbf{Teorema (Poisson).-}$ Sean $S_{n}\\sim Bin(n,p_{n})$ bajo el regimen $$\\lim_{n\\to \\infty}np_{n}=\\lambda>0.$$\n",
        "Consideremos la siguiente sucesión de números reales:\n",
        "$$a_{j}(n,p_n)=\\begin{cases}\\binom{n}{j}(p_n)^{j}(1-p_{n})^{n-j} & j\\leq n\\\\\n",
        "0 & j\\geq n+1\\end{cases}$$\n",
        "\n",
        " Entonces,\n",
        " $$\\lim_{n\\to \\infty}a_{j}(n,p_n)=a_{j}=e^{-\\lambda}\\frac{\\lambda^{j}}{j!} \\ \\ \\forall j\\in \\mathbb{N}.$$\n",
        "\n",
        " El teorema anterior implica que la distribución de Poisson ofrece un modelo probabilístico adecuado para todos aquellos experimentos aleatorios \ten los que las repeticiones son independientes unas de otras y en los \tque sólo hay dos posibles resultados: éxito o fracaso, con probabilidad de \téxito pequeña, y en los que el interés se centra en conocer el número de éxitos obtenidos al realizar el experimento un número suficientemente grande de veces.\n",
        "\n",
        "Empíricamente se ha establecido, que la aproximación se puede aplicar con seguridad si $n\\ge100$, $p\\le 0.01$ y $np \\le20$.\n",
        "\n",
        "**Ejemplo** Supongamos que la probabilidad de que un producto producido por cierta máquina es defectuoso es de $0.1$. ¿Cuál es la probabilidad de que un lote de 10 productos contenga a lo más un producto defectuoso?\n",
        "\n",
        "Sea $X$ el número de productos defectuosos, y sabemos que $X$ tiene una distribución binomial con parámetros $n=10$ y $p=0.1$, entonces\n",
        "\\begin{align*}\n",
        "\\mathbb{P}(X\\le 1) &= \\mathbb{P}(X=0)+\\mathbb{P}(X=1) \\\\ &= \\binom{10}{0}(0.1)^{0}(0.9)^{10-0}+\\binom{10}{1}(0.1)^{1}(0.9)^{10-1} \\\\ &= 0.7361\n",
        "\t\\end{align*}\n",
        "\n",
        "Ahora, con la distribución Poisson, tenemos que $\\lambda=10(0.1)=1$, por lo que\n",
        "$$\\mathbb{P}(X\\le 1) = \\mathbb{P}(X=0)+\\mathbb{P}(X=1) = \\frac{e^{-1}1^{0}}{0!}+\\frac{e^{-1}1^{1}}{1!} = e^{-1}+e^{-1} =0.7358$$\n"
      ],
      "metadata": {
        "id": "EdWvP-rJ4kVI"
      },
      "id": "EdWvP-rJ4kVI"
    },
    {
      "cell_type": "code",
      "source": [
        "# Simulación de la aproximación de la Bonomial a la Poisson\n",
        "param=3 # Parametro de la Poisson que queremos aproximar\n",
        "n=1000 # Este es el número de ensayos en la distribución binomial\n",
        "N=5000 # Este es el número de simulaciones que realizaremos.\n",
        "\n",
        "# Genera una muestra de N valores aleatorios de una distribución binomial con parámetros:\n",
        "# n = 1000 (número de ensayos), p = param/n = 3/1000\n",
        "X=npr.binomial(n,param/n,N)\n",
        "\n",
        "# Calcular la frecuencia relativa de los valores simulados\n",
        "counts = np.bincount(X) / float(N)\n",
        "\n",
        "# Crear un array de valores posibles\n",
        "x = np.arange(len(counts))\n",
        "\n",
        "# Calcular la función de masa de probabilidad (FMP) de la distribución Poisson teórica\n",
        "f_x = sps.poisson.pmf(x, param)\n",
        "\n",
        "plt.close()\n",
        "plt.bar(x - 0.5, counts, width=1., label=\"ley empírica\")\n",
        "p2 = plt.stem(x, f_x, \"r\", label=\"ley teórica\")\n",
        "plt.legend()\n",
        "plt.show()"
      ],
      "metadata": {
        "colab": {
          "base_uri": "https://localhost:8080/",
          "height": 430
        },
        "id": "xiwfqJuS_Ltm",
        "outputId": "46ef00be-7e76-4fc7-d8f2-95fb71afa097"
      },
      "id": "xiwfqJuS_Ltm",
      "execution_count": 9,
      "outputs": [
        {
          "output_type": "display_data",
          "data": {
            "text/plain": [
              "<Figure size 640x480 with 1 Axes>"
            ],
            "image/png": "[encoded data removed]"
          },
          "metadata": {}
        }
      ]
    },
    {
      "cell_type": "markdown",
      "source": [
        "## Variable aleatoria Geométrica con parámetro $p\\in (0,1)$.\n",
        "\n",
        "Esta variable aleatoria cuenta el número de fracasos antes del primer éxito en ensayos bernoulli independientes con parámetro $0<p<1$, y su función de masa de probabilidades está dada por:\n",
        "$$f_{X}(k)=\\begin{cases}\n",
        "\tp(1-p)^{k-1} &\\quad \\text{si } k=1,2,\\dots \\\\\n",
        "\t\\qquad 0 &\\quad \\text{en otro caso}  \n",
        "\\end{cases}$$\n",
        "\n",
        "\n",
        "Notación. $X\\sim Geo(p)$\n",
        "\n",
        "La cual es una función de densidad ya que:\n",
        "* $0\\le f_{X}(k)\\le 1$ para toda $x$.\n",
        "* $$\\begin{align*}\n",
        "\t\\sum_{k\\in R_{X}}f_{X}(k) &= \\sum_{k=1}^{\\infty}(1-p)^{k-1}p \\\\\n",
        "\t\t\t&= p\\sum_{y=0}^{\\infty}(1-p)^{y} \\\\\n",
        "\t\t\t&= p\\left(\\frac{1}{1-(1-p)}\\right) = 1\n",
        "\t\t\\end{align*}$$\n",
        "\n",
        "Si por el contrario queremos contar el número de éxitos antes del primer fracaso, tenemos que la función de está dada por:\n",
        "\t$$f_{X}(k)=\\begin{cases}\n",
        "\t\tp^{k}(1-p) &\\quad \\text{si } k=0,1,2,\\dots \\\\\n",
        "\t\t\\qquad 0 &\\quad \\text{en otro caso}  \n",
        "\t\\end{cases}$$\n",
        "\n",
        "Para calcular la Esperanza y Varianza de $X$, necesitamos del siguiente lema:\n",
        "\n",
        "**Lema 1** Sea $x$ un número real tal que $│x│<1$. Entonces,\n",
        "$$\\sum_{k=1}^{\\infty}kx^{k-1}=\\frac{1}{(1-x)^2}.$$\n",
        "**Demostración.** Se tiene que\n",
        "$$\\frac{d}{dx}\\sum_{k=1}^{\\infty}x^{k}=\\sum_{k=1}^{\\infty}kx^{k-1}.$$\n",
        "Además,\n",
        "$$\\sum_{k=1}^{\\infty}x^{k}=\\frac{x}{1-x}.$$\n",
        "Por lo tanto,\n",
        "$$\\frac{d}{dx}\\frac{x}{1-x}=\\frac{1}{(1-x)^2}.$$\n",
        "\n",
        "Como corolario,\n",
        "$$\\sum_{k=1}^{\\infty}k(k+1)x^{k-1}=\\frac{2}{(1-x)^2}.$$\n",
        "En efecto,\n",
        "$$\\frac{d}{dx}\\sum_{k=1}^{\\infty}(k+1)x^{k}=\\sum_{k=1}^{\\infty}k(k+1)x^{k-1}.$$\n",
        "Ahora,\n",
        "$$\\sum_{k=1}^{\\infty}(k+1)x^{k}=\\sum_{m=2}^{\\infty}mx^{m-1}=\\frac{1}{(1-x)^2}-1.$$\n",
        "\n",
        "Usando estos resultados, la esperanza de $X$ es:\n",
        "\\begin{align*}\n",
        "\\mathbb{E}[X]&=  \\sum_{x \\mathop \\ge 1} k p(1-p)^{k - 1}\\\\\n",
        "&= p \\frac 1 {(1 - (1-p))^2}\\\\\n",
        "&=  \\frac p {p^2}\\\\\n",
        "&=\\frac{1}{p}\n",
        "\\end{align*}\n",
        "\n",
        "Calculamos,\n",
        "\\begin{align*}\n",
        "\\mathbb{E}[X^2]&= \\sum_{k=1}^{\\infty} x^{2}p(1-p)^{k-1}\\\\\n",
        "&=\\sum_{k=1}^{\\infty}k(k+1)(1-p)^{k-1}p-\\sum_{k=1}^{\\infty}p(1-p)^{k-1}\n",
        "\\end{align*}\n",
        "\n",
        "Por el Lema 1,\n",
        "$$\\mathbb{E}[X^2]=p\\frac{2}{p^3}-\\frac{1}{p}=\\frac{2}{p^2}-\\frac{1}{p}.$$\n",
        "\n",
        "Por lo tanto,\n",
        "$$\\text{Var}(X)=\\frac{2}{p^2}-\\frac{1}{p}-\\frac{1}{p^2}=\\frac{1-p}{p^2}.$$"
      ],
      "metadata": {
        "id": "4mz4tCaWg84X"
      },
      "id": "4mz4tCaWg84X"
    },
    {
      "cell_type": "code",
      "source": [
        "# Simulación de una distribución geométrica.\n",
        "p = 0.4  # probabilidad de éxito\n",
        "s = 100000  # tamaño de muestra (se generarán 100,000 v.a. geométricas)\n",
        "\n",
        "random.seed(3)\n",
        "geom_numeros = sps.geom.rvs(p, size=s) # genera variables aleatorias geométricas\n",
        "\n",
        "#Creo un histograma\n",
        "plt.figure(figsize=(10, 5))\n",
        "plt.hist(\n",
        "    geom_numeros,\n",
        "    density=True,\n",
        "    bins=len(np.unique(geom_numeros)),\n",
        "    color=\"#26d526\",\n",
        "    edgecolor=\"black\",\n",
        ")\n",
        "plt.xlabel(\" \")\n",
        "plt.ylabel(\"Probabilidad\")\n",
        "plt.title(\"Distribución Geométrica \\npara p=0.4\")\n",
        "plt.xticks(\n",
        "    np.arange(min(geom_numeros), max(geom_numeros) + 1, 1.0)\n",
        ")\n",
        "\n",
        "plt.show()"
      ],
      "metadata": {
        "colab": {
          "base_uri": "https://localhost:8080/",
          "height": 508
        },
        "id": "hyIVf0cJ_YMU",
        "outputId": "b3ec24b6-0ac1-41ff-869e-c1e7c898c0a4"
      },
      "id": "hyIVf0cJ_YMU",
      "execution_count": 10,
      "outputs": [
        {
          "output_type": "display_data",
          "data": {
            "text/plain": [
              "<Figure size 1000x500 with 1 Axes>"
            ],
            "image/png": "[encoded data removed]"
          },
          "metadata": {}
        }
      ]
    },
    {
      "cell_type": "markdown",
      "source": [
        "**Ejemplo.** Cada una de $12$ personas lanza una moneda indefinidamente, deteniendo sus lanzamientos en el momento en que se obtiene por primera vez águila. ¿Cuál es la probabilidad de que por lo menos $10$ de ellas realicen menos de $4$ lanzamientos?\n",
        "\n",
        "Sea $X$ el número de lanzamientos que se realizan antes de obtener por primera vez águila al lanzar una moneda indefinidamente y sea $Y$ el número de personas que realizan menos de $4$ lanzamientos. Así, $Y\\sim \\text{Binom}\\left(12, p=\\mathbb{P}(X<3) \\right)$, en donde $X\\sim \\text{Geo}(1/2)$. Así,\n",
        "- $p=\\frac{7}{8}$.\n",
        "- $\\mathbb{P}(Y\\geq 10)=0.818$"
      ],
      "metadata": {
        "id": "MBHSx-yOiL82"
      },
      "id": "MBHSx-yOiL82"
    },
    {
      "cell_type": "code",
      "source": [
        "# Calcula la función de distribución acumulada (CDF) de la distribución geométrica\n",
        "# para el valor k = 3 y la probabilidad de éxito p = 0.5.\n",
        "p = sps.geom.cdf(3, 0.5)\n",
        "print(p)\n",
        "#La probabilidad buscada es:\n",
        "P = 1-sps.binom.cdf(9, 12, p) # Cálculo de la probabilidad complementaria usando una distribución binomial\n",
        "print(P)"
      ],
      "metadata": {
        "colab": {
          "base_uri": "https://localhost:8080/"
        },
        "id": "tUlGZvQY_dp5",
        "outputId": "b1e63502-d95e-4952-bb0a-e62686876029"
      },
      "id": "tUlGZvQY_dp5",
      "execution_count": 11,
      "outputs": [
        {
          "output_type": "stream",
          "name": "stdout",
          "text": [
            "0.875\n",
            "0.8180006196344038\n"
          ]
        }
      ]
    },
    {
      "cell_type": "markdown",
      "source": [
        "## Variable aleatoria Binomial Negativa con parámetros $r\\geq 1$ y $p\\in (0,1)$.\n",
        "\n",
        "Supongamos que se realizan ensayos independientes, cada uno con probabilidad $0<p<1$ de ser un éxito, hasta obtener un total de $r$ éxitos acumulados. Sea $X$ el número de ensayos que se requieren, entonces su función de masa de probabilidades está dada por:\n",
        "$$f_{X}(k)=\\begin{cases}\n",
        "\t\\binom{n-1}{r-1}p^{r}(1-p)^{n-r} &\\quad \\text{si } n=r,r+1,\\dots \\\\\n",
        "\t\\qquad 0 &\\quad \\text{en otro caso}  \n",
        "\\end{cases}$$\n",
        "\n",
        "\n",
        "\n",
        "Notación. $X\\sim \\text{BN}(r,p)$.\n",
        "\n",
        "Se tiene que\n",
        "$$\\mathbb{E}[X]=\\frac{r}{p}$$\n",
        "y\n",
        "$$\\text{Var}[X]=\\frac{r(1-p)}{p^2}.$$\n"
      ],
      "metadata": {
        "id": "I39XPyC-nW6W"
      },
      "id": "I39XPyC-nW6W"
    },
    {
      "cell_type": "code",
      "source": [
        "# Simulación de una distribución binomial negativa.\n",
        "n = 10  # numbero de ensayos Bernoulli\n",
        "p = 0.4  # probabilidad de éxito\n",
        "s = 100000  # tamaño de muestra\n",
        "\n",
        "random.seed(3)\n",
        "geom_numeros = sps.nbinom.rvs(n,p, size=s) # genera v.a. Binomial Negativas\n",
        "\n",
        "#Creo un histograma\n",
        "plt.figure(figsize=(10, 5))\n",
        "plt.hist(\n",
        "    geom_numeros,\n",
        "    density=True,\n",
        "    bins=len(np.unique(geom_numeros)),\n",
        "    color=\"#FF00FF\",\n",
        "    edgecolor=\"white\",\n",
        ")\n",
        "plt.xlabel(\" \")\n",
        "plt.ylabel(\"Probabilidad\")\n",
        "plt.title(\"Distribución BN \\npara r=10 y p=0.4\")\n",
        "plt.xticks(\n",
        "    np.arange(min(geom_numeros), max(geom_numeros) + 1, 2.0)\n",
        ")\n",
        "\n",
        "plt.show()"
      ],
      "metadata": {
        "colab": {
          "base_uri": "https://localhost:8080/",
          "height": 508
        },
        "id": "RMfL5oRq_kfU",
        "outputId": "b87a4f3d-4352-435e-9e72-e81816beff88"
      },
      "id": "RMfL5oRq_kfU",
      "execution_count": 12,
      "outputs": [
        {
          "output_type": "display_data",
          "data": {
            "text/plain": [
              "<Figure size 1000x500 with 1 Axes>"
            ],
            "image/png": "[encoded data removed]"
          },
          "metadata": {}
        }
      ]
    },
    {
      "cell_type": "markdown",
      "source": [
        "###$\\color{red}{\\text{Ejercicio 4.}}$###\n",
        " Un examen de Estadística consta de 20 preguntas tipo test y se conoce de experiencias\n",
        "anteriores que un alumno tiene probabilidad 0.7 de contestar bien cada pregunta. Obtener:\n",
        "\n",
        "a) La probabilidad de que la primera pregunta que contesta bien sea la cuarta.\n",
        "\n",
        "$$X\\sim \\text{Geo}(p)$$\n",
        "\n",
        "$$f_{X}=\\begin{cases}\n",
        "\tp (1-p)^{k-1} &\\quad \\text{si } k=1,2,\\dots \\\\\n",
        "\t\\qquad 0 &\\quad \\text{en otro caso}  \n",
        "\\end{cases}$$\n",
        "\n",
        "Dado que $p=0.7$ entonces $X\\sim \\text{Geo}(0.7)$, como la distribución geométrica memoriza los fracasos antes del primer éxito, entonces buscamos la probabilidad cuando $x=3$\n",
        "\n",
        "$$\\mathbb{P}(X=3)=\\text {0.7 }(1-0.7)^{4-1}=\\text {0.7 }(0.3)^{3}$$\n",
        "$$\\mathbb{P}(X=3)=\\text{ 0.0189}$$\n",
        "\n",
        "b) Sabiendo que para aprobar el examen es necesario contestar bien a 10 preguntas, ¿cuál es la probabilidad de que apruebe al contestar la pregunta duodécima?\n",
        "En este caso $n$ total de ensayos $\\text {, }$\n",
        "$r$ el total de éxitos\n",
        "\n",
        "\\begin{align*}\n",
        "\\mathbb{P}(X=12)=&\\binom{n-1}{r-1}p^{r}(1-p)^{n-r}\\\\\n",
        "=&\\binom{12-1}{10-1}(0.7)^{10}(1-0.7)^{12-10}\\\\\n",
        "=&\\binom{11}{9}(0.7)^{10}(0.3)^{2}\\\\\n",
        "=&(55)(0.7)^{10}(0.3)^{2}\\\\\n",
        "=&0.1398\n",
        "\\end{align*}\n",
        "\n",
        "NOTA: Para obtener el coeficiente binomial\n",
        "\n",
        "\\begin{align*}\n",
        "\\binom{n}{k} =& \\frac{n!}{k!(n-k)!}\\\\\n",
        "=&\\frac{11!}{9!(11-9)!}\\\\\n",
        "=& \\frac {11 \\times 10}{2 \\times 1}\\\\\n",
        "=&55\n",
        "\\end{align*}\n"
      ],
      "metadata": {
        "id": "1-l2x--wcH4I"
      },
      "id": "1-l2x--wcH4I"
    },
    {
      "cell_type": "code",
      "source": [
        "#EJERCICIO 4\n",
        "from scipy.stats import nbinom\n",
        "from scipy.stats import geom\n",
        "#a)\n",
        "#De acuerdo con el texto p=0.7\n",
        "#Calculamos la probabilidad de la dist Geométrica de los 3 fracasos para que la 4ta pregunta sea el 1er éxito\n",
        "#print(\"a) La probabilidad de que la primera pregunta que contesta bien sea la cuarta es:\",nbinom.pmf(3,1,0.7))\n",
        "print(\"a) La probabilidad de que la primera pregunta que contesta bien sea la cuarta es:\",geom.pmf(4,0.7))\n",
        "\n",
        "#b) Sabiendo que para aprobar el examen es necesario contestar 10 preguntas ¿Cuál es la probabilidad de que apruebe al contestar la duodecima pregunta?\n",
        "#k=n-r=12-10, r=10, p=0.7\n",
        "print(\"b) La probabilidad de que apruebe al contestar la pregunta 12:\",nbinom.pmf(2,10,0.7))\n",
        "\n",
        "\n"
      ],
      "metadata": {
        "colab": {
          "base_uri": "https://localhost:8080/"
        },
        "id": "G9KvODm0cs6W",
        "outputId": "6476918b-aa8c-4a00-b2c6-355373607708"
      },
      "id": "G9KvODm0cs6W",
      "execution_count": 13,
      "outputs": [
        {
          "output_type": "stream",
          "name": "stdout",
          "text": [
            "a) La probabilidad de que la primera pregunta que contesta bien sea la cuarta es: 0.018900000000000007\n",
            "b) La probabilidad de que apruebe al contestar la pregunta 12: 0.13982524825499987\n"
          ]
        }
      ]
    },
    {
      "cell_type": "markdown",
      "source": [
        "###$\\color{red}{\\text{Ejercicio 5. Caja de cerillos de Banach}}$#\n",
        "Investigue sobre el problema de la caja de cerillos de Banach y explique su solución.\n",
        "\n",
        "Un matemático lleva dos cajas de fósforos, una en su bolsillo derecho y otra en su bolsillo izquierdo, que contienen $n_1$y $n_2$ fósforos inicialmente. Cuando necesita un fósforo, puede elegir el de la derecha, con probabilidad $p_1$\n",
        "o el de la izquierda, con probabilidad $p_2$.\n",
        "\n",
        "$X:$ Número de fósforos restantes en una caja cuando la otra se encuentra vacía.\n",
        "\n",
        "Entonces buscamos $\\mathbb{P}(X=x)$\n",
        "\n",
        "Está claro que puede encontrar vacía la caja en el bolsillo derecho o la del izquierdo. Por lo tanto,\n",
        "$$\\text{}$$\n",
        "\\begin{align*}\n",
        "\\mathbb{P}(X=x)=&\\mathbb{P}\\text{(derecha tiene x| izquierda vacia)}+\\mathbb{P}\\text{(izquierda tiene x| derecha vacia)}\\\\\n",
        "=&\\left ( \\frac{n_2+(n_1-x)}{n_2} \\right ) p_1^{n_2}p_2^{n_1-x}p_2+\\left ( \\frac{n_1+(n_2-x)}{n_1} \\right ) p_1^{n_1}p_2^{n_2-x}p_1\\\\\n",
        "=&p_1^{n_1}p_2^{n_2} \\left ( \\frac{n_2+(n_1-x)}{n_2} \\left ( \\frac{p_1}{p_2}\\right ) ^{x} + \\frac{n_1+(n_2-x)}{n_1} \\left ( \\frac{p_2}{p_1}\\right ) ^{x} \\right )\n",
        "\\end{align*}\n",
        "$$\\text{}$$\n",
        "- Donde de la primera parte del sumando $\\mathbb{P}\\text{(derecha tiene x| izquierda vacia)} =\\left ( \\frac{n_2+(n_1-x)}{n_2} \\right ) p_1^{n_2}p_2^{n_1-x}p_2$\n",
        "$$\\text{ }$$\n",
        "$\\frac{n_2+(n_1-x)}{n_2}$ :Cuenta cuántas formas de vaciar la caja izquierda mientras quedan $x$ fósforos en la caja derecha\n",
        "$$\\text{}$$\n",
        "$p_1^{n_2}$ probabilidad de haber elegido la caja derecha $n_2$ veces.\n",
        "$$\\text{}$$\n",
        "$p_2^{n_1-x}$ Es la probabilidad de haber elegido la caja izquierda $n_1-x$\n",
        "$$\\text{}$$\n",
        "El último $p_2$ indica la probabilidad de que la última selección, que vacía la caja izquierda, sea efectivamente la caja izquierda.\n",
        "$$\\text{}$$\n",
        "- Ahora el segundo sumando $\\mathbb{P}\\text{(izquierda tiene x| derecha vacia)}=\\left ( \\frac{n_1+(n_2-x)}{n_1} \\right ) p_1^{n_1}p_2^{n_2-x}p_1$\n",
        "$$\\text{}$$\n",
        "$\\frac{n_1+(n_2-x)}{n_1}$ :Cuenta cuántas formas de vaciar la caja derecha mientras quedan $x$ fósforos en la caja izquierda\n",
        "$$\\text{}$$\n",
        "$p_1^{n_1}$ probabilidad de haber elegido la caja derecha $n_1$ veces.\n",
        "$$\\text{}$$\n",
        "$p_2^{n_1-x}$ Es la probabilidad de haber elegido la caja izquierda $n_2-x$\n",
        "$$\\text{}$$\n",
        "El último $p_1$ es la probabilidad de que la última elección sea la caja derecha, que se vacía.\n",
        "$$\\text{}$$\n",
        "\n",
        "##Generalizando: Si se considera que ambas cajas $n_1=n_2=n$ y que $p_1=p_2=p=0.5$\n",
        "\n",
        "Debido a que la probabilidad de elegir cualquiera de las dos cajas es\n",
        "$0.5$, el número de veces que se saca un fósforo de una de las cajas sigue una distribución binomial.\n",
        "\n",
        "El número de veces que se elige la caja derecha (o izquierda) es una variable aleatoria binomial con parámetros $2n$ (el total de fósforos combinados de ambas cajas) y $0.5$ (la probabilidad de elegir una caja).\n",
        "\n",
        "Entonces, la probabilidad de elegir $n-x$ veces una caja (es decir, que queden\n",
        "$x$ fósforos cuando la otra caja se vacía) está dada por la fórmula de la binomial:\n",
        "\n",
        "$$\\mathbb{P}(X=x)=\\binom{2n-x}{n} . (0.5)^{2n-x}$$\n",
        "\n"
      ],
      "metadata": {
        "id": "lgLbVp0-cMMP"
      },
      "id": "lgLbVp0-cMMP"
    },
    {
      "cell_type": "markdown",
      "source": [
        "##$\\color{green}{\\text{Caja de fosforos y bolas rojas}}$\n",
        "\n",
        "## Como se puede inicar el codigo\n",
        "\n",
        "El análisis comparativo entre la **distribución hipergeométrica** y la **distribución binomial** ha revelado importantes insights (si lo graficamos es facil notarlo) sobre el comportamiento probabilístico en distintos escenarios\n",
        "La distribución hipergeométrica, que se utiliza para modelar la probabilidad de obtener un número específico de éxitos en una muestra sin reemplazo, y la distribución binomial, que modela el mismo problema pero bajo el supuesto de reemplazo\n",
        "\n",
        "Las simulaciones y gráficos generados muestran claramente cómo las probabilidades se distribuyen en función de los objetos y éxitos totales, así como de los tamaños de las muestras\n",
        "Esto permite una comprensión más profunda de las características y aplicaciones de cada distribución\n",
        "\n",
        "## Explicación del Ejemplo de Caja de Fósforos y Bolas Rojas\n",
        "\n",
        "Consideremos un **problema de caja de fósforos** con bolas de colores (rojas y no rojas)\n",
        "\n",
        "- **Distribución Hipergeométrica**: Supongamos una caja con un total de \\( N \\) bolas, de las cuales \\( m \\) son rojas y \\( N - m \\) son de otro color. Si extraemos una muestra de \\( n \\) bolas sin reemplazo, queremos conocer la probabilidad de obtener exactamente \\( k \\) bolas rojas en esa muestra\n",
        "\n",
        "- **Distribución Binomial**: Para simplificar, podemos asumir que cada extracción es independiente y tiene una probabilidad constante \\( p \\) de ser una bola roja. En este caso, el problema se modela como una serie de pruebas independientes (con reemplazo) aquí \\( p \\) representa la probabilidad de éxito en cada prueba (sacar una bola roja)\n",
        "\n",
        "las visualizaciones gráficas ayudan a comparar y comprender cómo las probabilidades cambian con diferentes parámetros. Estos gráficos facilitan el análisis de datos y la toma de decisiones al mostrar cómo se distribuye la probabilidad de obtener un número específico de bolas rojas en una muestra bajo diferentes supuestos"
      ],
      "metadata": {
        "id": "5YkQ_W9LVWw7"
      },
      "id": "5YkQ_W9LVWw7"
    },
    {
      "cell_type": "markdown",
      "source": [
        "## Análisis de Distribuciones\n",
        "\n",
        "## Distribución Hipergeométrica\n",
        "\n",
        "Para una urna con:\n",
        "\n",
        "- Total de bolas, \\( N = 1000 \\)\n",
        "- Número de bolas rojas, \\( m = 400 \\)\n",
        "- Tamaño de la muestra, \\( n = 50 \\)\n",
        "\n",
        "La PMF para obtener exactamente \\( k \\) bolas rojas es:\n",
        "\n",
        "$$\n",
        "P(X = k) = \\frac{\\binom{m}{k} \\cdot \\binom{N - m}{n - k}}{\\binom{N}{n}}\n",
        "$$\n",
        "\n",
        "Por ejemplo, para \\( k = 10 \\):\n",
        "\n",
        "$$\n",
        "P(X = 10) = \\frac{\\binom{400}{10} \\cdot \\binom{600}{40}}{\\binom{1000}{50}}\n",
        "$$\n",
        "\n",
        "Donde:\n",
        "\n",
        "$$\n",
        "\\binom{400}{10} = \\frac{400!}{10!(400-10)!}\n",
        "$$\n",
        "\n",
        "$$\n",
        "\\binom{600}{40} = \\frac{600!}{40!(600-40)!}\n",
        "$$\n",
        "\n",
        "$$\n",
        "\\binom{1000}{50} = \\frac{1000!}{50!(1000-50)!}\n",
        "$$\n",
        "\n",
        "## Distribución Binomial\n",
        "\n",
        "Para una distribución binomial con:\n",
        "\n",
        "- Tamaño de la muestra, \\( n = 50 \\)\n",
        "- Probabilidad de éxito $ p = \\frac{m}{N} = 0.4 $\n",
        "\n",
        "La PMF es:\n",
        "\n",
        "$$\n",
        "P(X = k) = \\binom{n}{k} \\cdot p^k \\cdot (1 - p)^{n - k}\n",
        "$$\n",
        "\n",
        "Para \\( k = 10 \\):\n",
        "\n",
        "$$\n",
        "P(X = 10) = \\binom{50}{10} \\cdot (0.4)^{10} \\cdot (0.6)^{40}\n",
        "$$\n",
        "\n",
        "Donde:\n",
        "\n",
        "$$\n",
        "\\binom{50}{10} = \\frac{50!}{10!(50-10)!}\n",
        "$$\n"
      ],
      "metadata": {
        "id": "NehfD7klXS_D"
      },
      "id": "NehfD7klXS_D"
    },
    {
      "cell_type": "code",
      "source": [
        "# Dependencias\n",
        "import numpy as np\n",
        "import scipy.stats as stats\n",
        "import matplotlib.pyplot as plt\n",
        "from math import comb"
      ],
      "metadata": {
        "id": "Wv3if9kMAdgu"
      },
      "execution_count": 14,
      "outputs": [],
      "id": "Wv3if9kMAdgu"
    },
    {
      "cell_type": "code",
      "source": [
        "def calculate_pmf_hypergeom(N, m, n, i_values):\n",
        "    \"\"\"\n",
        "    Calcula la función de masa de probabilidad (PMF) para la distribución hipergeométrica.\n",
        "\n",
        "    Parámetros:\n",
        "    N (int): Total de bolas en la urna.\n",
        "    m (int): Número de bolas rojas.\n",
        "    n (int): Tamaño de la muestra.\n",
        "    i_values (array-like): Valores de la variable aleatoria.\n",
        "\n",
        "    Retorna:\n",
        "    array: Valores de la PMF para cada i en i_values.\n",
        "    \"\"\"\n",
        "    # Validación de los parámetros por la nota\n",
        "    if not (0 <= m <= N and 0 <= n <= N):\n",
        "        raise ValueError(\"Los parámetros deben cumplir: 0 <= m <= N y 0 <= n <= N\")\n",
        "    # Validación de los valores de i por la nota\n",
        "    if np.any(i_values < 0) or np.any(i_values > n):\n",
        "        raise ValueError(\"i_values deben estar en el rango [0, n]\")\n",
        "\n",
        "    # Cálculo de la PMF usando la fórmula de la distribución hipergeométrica\n",
        "    pmf_values = np.array([comb(m, i) * comb(N - m, n - i) / comb(N, n) for i in i_values])\n",
        "\n",
        "    # PMF usando scipy para comparación\n",
        "    pmf_values_scipy = stats.hypergeom.pmf(i_values, N, m, n)\n",
        "\n",
        "    # Validación de los primeros 4 valores\n",
        "    print(f\"Primeros 4 valores de la PMF hipergeométrica calculada manualmente: {pmf_values[:4]}\\n\"\n",
        "          f\"Primeros 4 valores de la PMF hipergeométrica calculada con scipy: {pmf_values_scipy[:4]}\\n\"\n",
        "          f\"Son iguales (primeros 4 valores): {np.allclose(pmf_values[:4], pmf_values_scipy[:4])}\")\n",
        "\n",
        "    print(\"\\n PMF hypergeom:\")\n",
        "    for i, pmf in zip(i_values, pmf_values):\n",
        "        print(f\"PMF(X={i}) = {pmf}\")\n",
        "\n",
        "    return pmf_values\n"
      ],
      "metadata": {
        "id": "Rfglnl2GAg5Y"
      },
      "execution_count": 15,
      "outputs": [],
      "id": "Rfglnl2GAg5Y"
    },
    {
      "cell_type": "code",
      "source": [
        "def calculate_theoretical_moments(N, m, n):\n",
        "    \"\"\"\n",
        "    Calcula la esperanza y la varianza teóricas para la distribución hipergeométrica.\n",
        "\n",
        "    Parámetros:\n",
        "    N (int): Total de bolas en la urna\n",
        "    m (int): Número de bolas rojas\n",
        "    n (int): Tamaño de la muestra\n",
        "\n",
        "    Retorna:\n",
        "    tuple: Esperanza y varianza teóricas\n",
        "    \"\"\"\n",
        "    # Validación de los parámetros por la nota\n",
        "    if not (0 <= m <= N and 0 <= n <= N):\n",
        "        raise ValueError(\"Los parámetros deben cumplir: 0 <= m <= N y 0 <= n <= N\")\n",
        "\n",
        "    esperanza_teorica = n * m / N\n",
        "    varianza_teorica = (n * m / N) * ((N - m) / N) * (N - n) / (N - 1)\n",
        "\n",
        "\n",
        "    # Se puede calcular con scipy y lo coloco para comparar\n",
        "    esperanza_scipy = stats.hypergeom.mean(N, m, n)\n",
        "    varianza_scipy = stats.hypergeom.var(N, m, n)\n",
        "\n",
        "    # Comparación\n",
        "    if np.isclose(esperanza_teorica, esperanza_scipy):\n",
        "        print(\"Las esperanzas teórica y scipy son iguales los valores son: \", esperanza_teorica)\n",
        "    else:\n",
        "        print(\"Las esperanzas teórica y scipy son diferentes\")\n",
        "\n",
        "    if np.isclose(varianza_teorica, varianza_scipy):\n",
        "        print(\"Las varianzas teórica y scipy son iguales los valores son: \", varianza_teorica)\n",
        "    else:\n",
        "        print(\"Las varianzas teórica y scipy son diferentes.\")\n",
        "\n",
        "    return esperanza_teorica, varianza_teorica, esperanza_scipy, varianza_scipy"
      ],
      "metadata": {
        "id": "6ctjFDR7AiFw"
      },
      "execution_count": 16,
      "outputs": [],
      "id": "6ctjFDR7AiFw"
    },
    {
      "cell_type": "code",
      "source": [
        "def calculate_pmf_binom(n, p, i_values):\n",
        "    \"\"\"\n",
        "    Calcula la función de masa de probabilidad (PMF) para la distribución binomial.\n",
        "\n",
        "    Parámetros:\n",
        "    n (int): Tamaño de la muestra.\n",
        "    p (float): Probabilidad de éxito.\n",
        "    i_values (array-like): Valores de la variable aleatoria.\n",
        "\n",
        "    Retorna:\n",
        "    array: Valores de la PMF para cada i en i_values.\n",
        "    \"\"\"\n",
        "    if not (0 <= p <= 1):\n",
        "        raise ValueError(\"La probabilidad p debe estar en el rango [0, 1]\")\n",
        "    if np.any(i_values < 0) or np.any(i_values > n):\n",
        "        raise ValueError(\"i_values deben estar en el rango [0, n]\")\n",
        "\n",
        "    # Cálculo de la PMF\n",
        "    pmf_binom = np.array([comb(n, i) * (p ** i) * ((1 - p) ** (n - i)) for i in i_values])\n",
        "\n",
        "    # Para validar\n",
        "    pmf_binom_stats = stats.binom.pmf(i_values, n, p)\n",
        "\n",
        "    print(f\"Primeros 4 valores de la PMF binomial calculada manualmente: {pmf_binom[:4]}\\n\"\n",
        "        f\"Primeros 4 valores de la PMF binomial calculada con scipy: {pmf_binom_stats[:4]}\\n\"\n",
        "        f\"Son iguales (primeros 4 valores): {np.allclose(pmf_binom[:4], pmf_binom_stats[:4])}\")\n",
        "\n",
        "    print(\"PMF binom:\")\n",
        "    for i, pmf in zip(i_values, pmf_binom):\n",
        "        print(f\"PMF(X={i}) = {pmf}\")\n",
        "\n",
        "    return pmf_binom"
      ],
      "metadata": {
        "id": "XnN2v0aqAk4p"
      },
      "execution_count": 17,
      "outputs": [],
      "id": "XnN2v0aqAk4p"
    },
    {
      "cell_type": "code",
      "source": [
        "# Parámetros\n",
        "# -*-* OJO igual se puede colocar al lado de cada función -*-*-*-\n",
        "# ejemplo\n",
        "# calculate_pmf_hypergeom(N=1000, m=400, n=77, i_values=i_values)\n",
        "# calculate_pmf_hypergeom(1000, 400, 77, i_values)\n",
        "# y así con las demás funciones ya que son objetos\n",
        "# pero los coloco aqui como variables para no olvidar que son parámetros\n",
        "\n",
        "N = 1000  # Total de bolas\n",
        "m = 400   # Número de bolas rojas\n",
        "n = 77    # Tamaño de la muestra\n",
        "\n",
        "# Valores de la variable aleatoria\n",
        "i_values = np.arange(0, n + 1)\n"
      ],
      "metadata": {
        "id": "znvuawwJAnaZ"
      },
      "execution_count": 18,
      "outputs": [],
      "id": "znvuawwJAnaZ"
    },
    {
      "cell_type": "code",
      "source": [
        "# Llamar a la función para calcular la PMF hipergeométrica\n",
        "pmf_hypergeom = calculate_pmf_hypergeom(N, m, n, i_values)"
      ],
      "metadata": {
        "colab": {
          "base_uri": "https://localhost:8080/"
        },
        "id": "b34fqs3eAqIE",
        "outputId": "4185cb72-11b7-4015-f06e-74860512db17"
      },
      "execution_count": 19,
      "outputs": [
        {
          "output_type": "stream",
          "name": "stdout",
          "text": [
            "Primeros 4 valores de la PMF hipergeométrica calculada manualmente: [1.01849000e-18 5.98654428e-17 1.72891399e-15 3.27047418e-14]\n",
            "Primeros 4 valores de la PMF hipergeométrica calculada con scipy: [1.01849000e-18 5.98654428e-17 1.72891399e-15 3.27047418e-14]\n",
            "Son iguales (primeros 4 valores): True\n",
            "\n",
            " PMF hypergeom:\n",
            "PMF(X=0) = 1.0184900003938722e-18\n",
            "PMF(X=1) = 5.986544277124286e-17\n",
            "PMF(X=2) = 1.728913987233494e-15\n",
            "PMF(X=3) = 3.270474177371343e-14\n",
            "PMF(X=4) = 4.557874306585167e-13\n",
            "PMF(X=5) = 4.990872365710758e-12\n",
            "PMF(X=6) = 4.471972592338184e-11\n",
            "PMF(X=7) = 3.371939657629875e-10\n",
            "PMF(X=8) = 2.183664312179799e-09\n",
            "PMF(X=9) = 1.233578786880518e-08\n",
            "PMF(X=10) = 6.153544612679026e-08\n",
            "PMF(X=11) = 2.737353093791334e-07\n",
            "PMF(X=12) = 1.0946854101245906e-06\n",
            "PMF(X=13) = 3.962107641122585e-06\n",
            "PMF(X=14) = 1.3053136745853177e-05\n",
            "PMF(X=15) = 3.9334099056463146e-05\n",
            "PMF(X=16) = 0.00010887116703128192\n",
            "PMF(X=17) = 0.0002777993699935455\n",
            "PMF(X=18) = 0.0006555585872306095\n",
            "PMF(X=19) = 0.0014347426140030566\n",
            "PMF(X=20) = 0.002919423783079148\n",
            "PMF(X=21) = 0.005535252025691031\n",
            "PMF(X=22) = 0.009798180900189028\n",
            "PMF(X=23) = 0.016221068714359764\n",
            "PMF(X=24) = 0.025154518349096287\n",
            "PMF(X=25) = 0.03658972566867086\n",
            "PMF(X=26) = 0.04998596402823888\n",
            "PMF(X=27) = 0.06420419379627128\n",
            "PMF(X=28) = 0.07761266621081535\n",
            "PMF(X=29) = 0.08837604195969154\n",
            "PMF(X=30) = 0.09486440959723852\n",
            "PMF(X=31) = 0.09605753364946884\n",
            "PMF(X=32) = 0.09180633874809031\n",
            "PMF(X=33) = 0.08285987408264528\n",
            "PMF(X=34) = 0.07065272186537945\n",
            "PMF(X=35) = 0.0569345896936683\n",
            "PMF(X=36) = 0.04337145994851595\n",
            "PMF(X=37) = 0.031239173179133786\n",
            "PMF(X=38) = 0.021277455416128275\n",
            "PMF(X=39) = 0.013705407225335295\n",
            "PMF(X=40) = 0.008348613513194918\n",
            "PMF(X=41) = 0.0048090093407609545\n",
            "PMF(X=42) = 0.002619116591655903\n",
            "PMF(X=43) = 0.0013484070545422165\n",
            "PMF(X=44) = 0.0006560431629001693\n",
            "PMF(X=45) = 0.00030153345374613413\n",
            "PMF(X=46) = 0.00013087109477176144\n",
            "PMF(X=47) = 5.360878663774953e-05\n",
            "PMF(X=48) = 2.0713552630391403e-05\n",
            "PMF(X=49) = 7.544025447803462e-06\n",
            "PMF(X=50) = 2.5878772112046223e-06\n",
            "PMF(X=51) = 8.353979519670588e-07\n",
            "PMF(X=52) = 2.535251175969596e-07\n",
            "PMF(X=53) = 7.225067227114612e-08\n",
            "PMF(X=54) = 1.9311367824446524e-08\n",
            "PMF(X=55) = 4.8342203569344275e-09\n",
            "PMF(X=56) = 1.131622640918218e-09\n",
            "PMF(X=57) = 2.472728964910226e-10\n",
            "PMF(X=58) = 5.0338063681180337e-11\n",
            "PMF(X=59) = 9.525794682285219e-12\n",
            "PMF(X=60) = 1.6715073687783498e-12\n",
            "PMF(X=61) = 2.7120235210922023e-13\n",
            "PMF(X=62) = 4.0556977056531856e-14\n",
            "PMF(X=63) = 5.569745752115947e-15\n",
            "PMF(X=64) = 6.994798886947146e-16\n",
            "PMF(X=65) = 7.994055870796738e-17\n",
            "PMF(X=66) = 8.26673473288133e-18\n",
            "PMF(X=67) = 7.683274325475844e-19\n",
            "PMF(X=68) = 6.366403778201094e-20\n",
            "PMF(X=69) = 4.6569757366982154e-21\n",
            "PMF(X=70) = 2.9707713203509695e-22\n",
            "PMF(X=71) = 1.6271830393158676e-23\n",
            "PMF(X=72) = 7.497804200769194e-25\n",
            "PMF(X=73) = 2.8262385973295664e-26\n",
            "PMF(X=74) = 8.367785063395973e-28\n",
            "PMF(X=75) = 1.8246808900783193e-29\n",
            "PMF(X=76) = 2.6053127549224747e-31\n",
            "PMF(X=77) = 1.8271024515040735e-33\n"
          ]
        }
      ],
      "id": "b34fqs3eAqIE"
    },
    {
      "cell_type": "code",
      "source": [
        "# Llamar a la función para calcular la PMF binomial\n",
        "p = m / N  # Probabilidad de éxito para la distribución binomial\n",
        "# -*-* OJO: No se puede calcular la PMF binomial para valores de i mayores a n -*-*-*-\n",
        "# Tambien si usamos i_values se puede hardcodear el valor de n por lo cual declaro un nuevo array\n",
        "# que es el mismo rango pero distinto nombre\n",
        "i_values_binom = np.arange(0, n + 1)\n",
        "pmf_binom = calculate_pmf_binom(n, p, i_values_binom)"
      ],
      "metadata": {
        "colab": {
          "base_uri": "https://localhost:8080/"
        },
        "id": "opi92YosAwuB",
        "outputId": "f92e7b62-4827-406f-c587-d0df7350c794"
      },
      "execution_count": 20,
      "outputs": [
        {
          "output_type": "stream",
          "name": "stdout",
          "text": [
            "Primeros 4 valores de la PMF binomial calculada manualmente: [8.27268103e-18 4.24664293e-16 1.07581621e-14 1.79302701e-13]\n",
            "Primeros 4 valores de la PMF binomial calculada con scipy: [8.27268103e-18 4.24664293e-16 1.07581621e-14 1.79302701e-13]\n",
            "Son iguales (primeros 4 valores): True\n",
            "PMF binom:\n",
            "PMF(X=0) = 8.272681029908174e-18\n",
            "PMF(X=1) = 4.2466429286861956e-16\n",
            "PMF(X=2) = 1.0758162086005033e-14\n",
            "PMF(X=3) = 1.7930270143341724e-13\n",
            "PMF(X=4) = 2.211399984345479e-12\n",
            "PMF(X=5) = 2.1524293180962665e-11\n",
            "PMF(X=6) = 1.7219434544770134e-10\n",
            "PMF(X=7) = 1.1643617644558854e-09\n",
            "PMF(X=8) = 6.792110292659332e-09\n",
            "PMF(X=9) = 3.471523038470325e-08\n",
            "PMF(X=10) = 1.5737571107732143e-07\n",
            "PMF(X=11) = 6.390407661927597e-07\n",
            "PMF(X=12) = 2.3431494760401193e-06\n",
            "PMF(X=13) = 7.810498253467064e-06\n",
            "PMF(X=14) = 2.3803423248661534e-05\n",
            "PMF(X=15) = 6.66495850962523e-05\n",
            "PMF(X=16) = 0.00017217809483198514\n",
            "PMF(X=17) = 0.0004118770111667096\n",
            "PMF(X=18) = 0.0009152822470371326\n",
            "PMF(X=19) = 0.0018947948271996779\n",
            "PMF(X=20) = 0.0036632699992527116\n",
            "PMF(X=21) = 0.00662877428436205\n",
            "PMF(X=22) = 0.011248829088614389\n",
            "PMF(X=23) = 0.017932915938370764\n",
            "PMF(X=24) = 0.02689937390755615\n",
            "PMF(X=25) = 0.03801778178934603\n",
            "PMF(X=26) = 0.050690375719128045\n",
            "PMF(X=27) = 0.06383232497964272\n",
            "PMF(X=28) = 0.07599086307100325\n",
            "PMF(X=29) = 0.08559890322940597\n",
            "PMF(X=30) = 0.09130549677803304\n",
            "PMF(X=31) = 0.0922872763132807\n",
            "PMF(X=32) = 0.0884419731335607\n",
            "PMF(X=33) = 0.08040179375778245\n",
            "PMF(X=34) = 0.06936625343808683\n",
            "PMF(X=35) = 0.05681426472071874\n",
            "PMF(X=36) = 0.04418887256055903\n",
            "PMF(X=37) = 0.032644031981674246\n",
            "PMF(X=38) = 0.022908092618718765\n",
            "PMF(X=39) = 0.015272061745812512\n",
            "PMF(X=40) = 0.009672305772347926\n",
            "PMF(X=41) = 0.005819110789867858\n",
            "PMF(X=42) = 0.0033252061656387764\n",
            "PMF(X=43) = 0.001804375438718716\n",
            "PMF(X=44) = 0.0009295267411581265\n",
            "PMF(X=45) = 0.00045443529567730636\n",
            "PMF(X=46) = 0.00021075260089382326\n",
            "PMF(X=47) = 9.267135642139746e-05\n",
            "PMF(X=48) = 3.861306517558228e-05\n",
            "PMF(X=49) = 1.5235086940025665e-05\n",
            "PMF(X=50) = 5.687765790942916e-06\n",
            "PMF(X=51) = 2.007446749744558e-06\n",
            "PMF(X=52) = 6.691489165815196e-07\n",
            "PMF(X=53) = 2.1042418760425144e-07\n",
            "PMF(X=54) = 6.234790743829673e-08\n",
            "PMF(X=55) = 1.7381840861585762e-08\n",
            "PMF(X=56) = 4.55238689232008e-09\n",
            "PMF(X=57) = 1.1181301139031777e-09\n",
            "PMF(X=58) = 2.570414054949834e-10\n",
            "PMF(X=59) = 5.5184030558245025e-11\n",
            "PMF(X=60) = 1.1036806111649005e-11\n",
            "PMF(X=61) = 2.0505541409621107e-12\n",
            "PMF(X=62) = 3.5278350812251364e-13\n",
            "PMF(X=63) = 5.599738224166884e-14\n",
            "PMF(X=64) = 8.166284910243373e-15\n",
            "PMF(X=65) = 1.0888379880324497e-15\n",
            "PMF(X=66) = 1.319803621857515e-16\n",
            "PMF(X=67) = 1.444561178152504e-17\n",
            "PMF(X=68) = 1.416236449169122e-18\n",
            "PMF(X=69) = 1.2315099557992367e-19\n",
            "PMF(X=70) = 9.382932996565612e-21\n",
            "PMF(X=71) = 6.167186007132328e-22\n",
            "PMF(X=72) = 3.426214448406849e-23\n",
            "PMF(X=73) = 1.5644814832907993e-24\n",
            "PMF(X=74) = 5.637771110957833e-26\n",
            "PMF(X=75) = 1.503405629588756e-27\n",
            "PMF(X=76) = 2.637553736120625e-29\n",
            "PMF(X=77) = 2.2835963083295457e-31\n"
          ]
        }
      ],
      "id": "opi92YosAwuB"
    },
    {
      "cell_type": "code",
      "source": [
        "# Llamar a la función para calcular los momentos teóricos y compararlos con los calculados por scipy\n",
        "esperanza_teorica, varianza_teorica, esperanza_scipy, varianza_scipy = calculate_theoretical_moments(N, m, n)"
      ],
      "metadata": {
        "colab": {
          "base_uri": "https://localhost:8080/"
        },
        "id": "bqTB7QHoAxiX",
        "outputId": "17930eaa-a9f6-4780-dfc5-19c8f0ceec97"
      },
      "execution_count": 21,
      "outputs": [
        {
          "output_type": "stream",
          "name": "stdout",
          "text": [
            "Las esperanzas teórica y scipy son iguales los valores son:  30.8\n",
            "Las varianzas teórica y scipy son iguales los valores son:  17.074114114114114\n"
          ]
        }
      ],
      "id": "bqTB7QHoAxiX"
    },
    {
      "cell_type": "code",
      "source": [
        "print(\"\\nComparación de los valores de la PMF hipergeométrica y binomial:\")\n",
        "print(f\"Suma de los valores de la PMF hipergeométrica: {pmf_hypergeom.sum()}\\n\"\n",
        "        f\"Suma de los valores de la PMF binomial: {pmf_binom.sum()}\\n\"\n",
        "        f\"Son iguales: {np.isclose(pmf_hypergeom.sum(), pmf_binom.sum())}\")\n"
      ],
      "metadata": {
        "colab": {
          "base_uri": "https://localhost:8080/"
        },
        "id": "ABUhwpZBAzxF",
        "outputId": "8f3b34de-f9a4-4394-c176-d950eafaf709"
      },
      "execution_count": 22,
      "outputs": [
        {
          "output_type": "stream",
          "name": "stdout",
          "text": [
            "\n",
            "Comparación de los valores de la PMF hipergeométrica y binomial:\n",
            "Suma de los valores de la PMF hipergeométrica: 1.0\n",
            "Suma de los valores de la PMF binomial: 1.0\n",
            "Son iguales: True\n"
          ]
        }
      ],
      "id": "ABUhwpZBAzxF"
    },
    {
      "cell_type": "code",
      "source": [
        "# Graficar ambas distribuciones en el mismo gráfico\n",
        "plt.figure(figsize=(12, 6))\n",
        "\n",
        "# PMF de la distribución hipergeométrica\n",
        "plt.stem(i_values, pmf_hypergeom, linefmt='b-', markerfmt='bo', basefmt='b-', label='Hipergeométrica', bottom=0.0)\n",
        "\n",
        "# PMF de la distribución binomial\n",
        "plt.stem(i_values_binom, pmf_binom, linefmt='g-', markerfmt='go', basefmt='g-', label='Binomial', bottom=0.0)\n",
        "\n",
        "plt.title('Comparación de la PMF: Hipergeométrica vs Binomial')\n",
        "plt.xlabel('Número de éxitos en la muestra')\n",
        "plt.ylabel('Probabilidad')\n",
        "plt.legend()\n",
        "plt.grid(True)\n",
        "\n",
        "plt.show()"
      ],
      "metadata": {
        "colab": {
          "base_uri": "https://localhost:8080/",
          "height": 565
        },
        "id": "ZOaA8_50A2OU",
        "outputId": "4a7c65be-bb88-4a24-f0dc-3595c7065caf"
      },
      "execution_count": 23,
      "outputs": [
        {
          "output_type": "display_data",
          "data": {
            "text/plain": [
              "<Figure size 1200x600 with 1 Axes>"
            ],
            "image/png": "[encoded data removed]"
          },
          "metadata": {}
        }
      ],
      "id": "ZOaA8_50A2OU"
    },
    {
      "cell_type": "code",
      "source": [
        "def plot_distributions():\n",
        "    # Parámetros para las simulaciones\n",
        "    simulations = [\n",
        "        {'N': 30, 'm': 10, 'n': 15},\n",
        "        {'N': 70, 'm': 20, 'n': 20},\n",
        "        {'N': 120, 'm': 40, 'n': 30}\n",
        "    ]\n",
        "\n",
        "    # Crear subplots\n",
        "    fig, axs = plt.subplots(3, 2, figsize=(14, 18))\n",
        "    fig.suptitle('Distribuciones Hipergeométrica y Binomial para Diferentes Parámetros')\n",
        "\n",
        "    for idx, params in enumerate(simulations):\n",
        "        N = params['N']\n",
        "        m = params['m']\n",
        "        n = params['n']\n",
        "        i_values = np.arange(0, n + 1)\n",
        "\n",
        "        # Cálculo de la PMF hipergeométrica\n",
        "        pmf_hypergeom = calculate_pmf_hypergeom(N, m, n, i_values)\n",
        "\n",
        "        # Cálculo de la PMF binomial\n",
        "        p = m / N  # Probabilidad de éxito para la distribución binomial\n",
        "        pmf_binom = calculate_pmf_binom(n, p, i_values)\n",
        "\n",
        "        # Graficar PMF hipergeométrica\n",
        "        axs[idx, 0].stem(i_values, pmf_hypergeom, linefmt='b-', markerfmt='bo', basefmt='r-')\n",
        "        axs[idx, 0].set_title(f'PMF Hipergeométrica\\nN={N}, m={m}, n={n}')\n",
        "        axs[idx, 0].set_xlabel('Número de bolas rojas en la muestra')\n",
        "        axs[idx, 0].set_ylabel('Probabilidad')\n",
        "\n",
        "        # Graficar PMF binomial\n",
        "        axs[idx, 1].stem(i_values, pmf_binom, linefmt='g-', markerfmt='go', basefmt='r-')\n",
        "        axs[idx, 1].set_title(f'PMF Binomial\\nn={n}, p={p:.2f}')\n",
        "        axs[idx, 1].set_xlabel('Número de éxitos en la muestra')\n",
        "        axs[idx, 1].set_ylabel('Probabilidad')\n",
        "\n",
        "    # Ajustar los espacios entre subplots\n",
        "    plt.tight_layout(rect=[0, 0.03, 1, 0.95])\n",
        "    plt.show()\n",
        "\n",
        "# Llamar a la función para graficar las distribuciones\n",
        "plot_distributions()"
      ],
      "metadata": {
        "colab": {
          "base_uri": "https://localhost:8080/"
        },
        "id": "uHOVPDBwA7BY",
        "outputId": "a2369bd1-4200-43fe-af75-af0ac193254b"
      },
      "execution_count": null,
      "outputs": [
        {
          "output_type": "stream",
          "name": "stdout",
          "text": [
            "Primeros 4 valores de la PMF hipergeométrica calculada manualmente: [9.99500250e-05 2.49875062e-03 2.24887556e-02 9.74512744e-02]\n",
            "Primeros 4 valores de la PMF hipergeométrica calculada con scipy: [9.99500250e-05 2.49875062e-03 2.24887556e-02 9.74512744e-02]\n",
            "Son iguales (primeros 4 valores): True\n",
            "\n",
            " PMF hypergeom:\n",
            "PMF(X=0) = 9.995002498750625e-05\n",
            "PMF(X=1) = 0.0024987506246876563\n",
            "PMF(X=2) = 0.022488755622188907\n",
            "PMF(X=3) = 0.09745127436281859\n",
            "PMF(X=4) = 0.2273863068465767\n",
            "PMF(X=5) = 0.3001499250374813\n",
            "PMF(X=6) = 0.2273863068465767\n",
            "PMF(X=7) = 0.09745127436281859\n",
            "PMF(X=8) = 0.022488755622188907\n",
            "PMF(X=9) = 0.0024987506246876563\n",
            "PMF(X=10) = 9.995002498750625e-05\n",
            "PMF(X=11) = 0.0\n",
            "PMF(X=12) = 0.0\n",
            "PMF(X=13) = 0.0\n",
            "PMF(X=14) = 0.0\n",
            "PMF(X=15) = 0.0\n",
            "Primeros 4 valores de la PMF binomial calculada manualmente: [0.00228366 0.01712744 0.05994603 0.12988306]\n",
            "Primeros 4 valores de la PMF binomial calculada con scipy: [0.00228366 0.01712744 0.05994603 0.12988306]\n",
            "Son iguales (primeros 4 valores): True\n",
            "PMF binom:\n",
            "PMF(X=0) = 0.002283658260521171\n",
            "PMF(X=1) = 0.01712743695390878\n",
            "PMF(X=2) = 0.05994602933868072\n",
            "PMF(X=3) = 0.12988306356714152\n",
            "PMF(X=4) = 0.19482459535071225\n",
            "PMF(X=5) = 0.21430705488578344\n",
            "PMF(X=6) = 0.1785892124048195\n",
            "PMF(X=7) = 0.11480735083166967\n",
            "PMF(X=8) = 0.057403675415834826\n",
            "PMF(X=9) = 0.02232365155060243\n",
            "PMF(X=10) = 0.006697095465180728\n",
            "PMF(X=11) = 0.001522067151177438\n",
            "PMF(X=12) = 0.0002536778585295729\n",
            "PMF(X=13) = 2.9270522138027645e-05\n",
            "PMF(X=14) = 2.0907515812876884e-06\n",
            "PMF(X=15) = 6.969171937625627e-08\n",
            "Primeros 4 valores de la PMF hipergeométrica calculada manualmente: [0.00029113 0.0037565  0.02118899 0.06934577]\n",
            "Primeros 4 valores de la PMF hipergeométrica calculada con scipy: [0.00029113 0.0037565  0.02118899 0.06934577]\n",
            "Son iguales (primeros 4 valores): True\n",
            "\n",
            " PMF hypergeom:\n",
            "PMF(X=0) = 0.00029112844073899633\n",
            "PMF(X=1) = 0.0037564960095354365\n",
            "PMF(X=2) = 0.02118898530378582\n",
            "PMF(X=3) = 0.06934577008511723\n",
            "PMF(X=4) = 0.14735976143087412\n",
            "PMF(X=5) = 0.21556627957887872\n",
            "PMF(X=6) = 0.2245482078946653\n",
            "PMF(X=7) = 0.1699283735419089\n",
            "PMF(X=8) = 0.09446676029139014\n",
            "PMF(X=9) = 0.03875559396569852\n",
            "PMF(X=10) = 0.011723567174623802\n",
            "PMF(X=11) = 0.0025994605708700227\n",
            "PMF(X=12) = 0.0004177704488898251\n",
            "PMF(X=13) = 4.7830605955185695e-05\n",
            "PMF(X=14) = 3.8047072918897713e-06\n",
            "PMF(X=15) = 2.0291772223412114e-07\n",
            "PMF(X=16) = 6.892585673713354e-09\n",
            "PMF(X=17) = 1.380242437789908e-10\n",
            "PMF(X=18) = 1.4377525393644876e-12\n",
            "PMF(X=19) = 6.17723969651767e-15\n",
            "PMF(X=20) = 6.17723969651767e-18\n",
            "Primeros 4 valores de la PMF binomial calculada manualmente: [0.0011952  0.00956157 0.03633397 0.08720153]\n",
            "Primeros 4 valores de la PMF binomial calculada con scipy: [0.0011952  0.00956157 0.03633397 0.08720153]\n",
            "Son iguales (primeros 4 valores): True\n",
            "PMF binom:\n",
            "PMF(X=0) = 0.001195196427745519\n",
            "PMF(X=1) = 0.00956157142196415\n",
            "PMF(X=2) = 0.03633397140346378\n",
            "PMF(X=3) = 0.08720153136831306\n",
            "PMF(X=4) = 0.14824260332613218\n",
            "PMF(X=5) = 0.1897505322574492\n",
            "PMF(X=6) = 0.18975053225744917\n",
            "PMF(X=7) = 0.15180042580595932\n",
            "PMF(X=8) = 0.09867027677387355\n",
            "PMF(X=9) = 0.052624147612732555\n",
            "PMF(X=10) = 0.023154624949602323\n",
            "PMF(X=11) = 0.008419863618037208\n",
            "PMF(X=12) = 0.0025259590854111624\n",
            "PMF(X=13) = 0.0006217745441012091\n",
            "PMF(X=14) = 0.0001243549088202418\n",
            "PMF(X=15) = 1.9896785411238685e-05\n",
            "PMF(X=16) = 2.4870981764048356e-06\n",
            "PMF(X=17) = 2.3407982836751396e-07\n",
            "PMF(X=18) = 1.5605321891167595e-08\n",
            "PMF(X=19) = 6.570661848912671e-10\n",
            "PMF(X=20) = 1.314132369782534e-11\n",
            "Primeros 4 valores de la PMF hipergeométrica calculada manualmente: [5.22630550e-07 1.22971894e-05 1.33731935e-04 8.94910558e-04]\n",
            "Primeros 4 valores de la PMF hipergeométrica calculada con scipy: [5.22630550e-07 1.22971894e-05 1.33731935e-04 8.94910558e-04]\n",
            "Son iguales (primeros 4 valores): True\n",
            "\n",
            " PMF hypergeom:\n",
            "PMF(X=0) = 5.226305503704716e-07\n",
            "PMF(X=1) = 1.2297189420481686e-05\n",
            "PMF(X=2) = 0.00013373193494773834\n",
            "PMF(X=3) = 0.0008949105583924124\n",
            "PMF(X=4) = 0.004138961332564908\n",
            "PMF(X=5) = 0.01408751929920274\n",
            "PMF(X=6) = 0.03668624817500714\n",
            "PMF(X=7) = 0.07502751506467625\n",
            "PMF(X=8) = 0.12272819813381308\n",
            "PMF(X=9) = 0.1627130913111194\n",
            "PMF(X=10) = 0.1765437040725646\n",
            "PMF(X=11) = 0.15786322271764344\n",
            "PMF(X=12) = 0.11691214478148056\n",
            "PMF(X=13) = 0.07194593525014188\n",
            "PMF(X=14) = 0.03685623245515081\n",
            "PMF(X=15) = 0.015725325847531012\n",
            "PMF(X=16) = 0.0055842776447198195\n",
            "PMF(X=17) = 0.0016473373912430722\n",
            "PMF(X=18) = 0.0004024133006386263\n",
            "PMF(X=19) = 8.103517266864787e-05\n",
            "PMF(X=20) = 1.3370803490326898e-05\n",
            "PMF(X=21) = 1.7935350087628298e-06\n",
            "PMF(X=22) = 1.936202566278055e-07\n",
            "PMF(X=23) = 1.6605906464802854e-08\n",
            "PMF(X=24) = 1.1126705345222633e-09\n",
            "PMF(X=25) = 5.6968731367539884e-11\n",
            "PMF(X=26) = 2.1622747229582445e-12\n",
            "PMF(X=27) = 5.824309018069345e-14\n",
            "PMF(X=28) = 1.0400551817980975e-15\n",
            "PMF(X=29) = 1.0895383833764443e-17\n",
            "PMF(X=30) = 4.993717590475369e-20\n",
            "Primeros 4 valores de la PMF binomial calculada manualmente: [5.21509505e-06 7.82264258e-05 5.67141587e-04 2.64666074e-03]\n",
            "Primeros 4 valores de la PMF binomial calculada con scipy: [5.21509505e-06 7.82264258e-05 5.67141587e-04 2.64666074e-03]\n",
            "Son iguales (primeros 4 valores): True\n",
            "PMF binom:\n",
            "PMF(X=0) = 5.2150950508465805e-06\n",
            "PMF(X=1) = 7.82264257626987e-05\n",
            "PMF(X=2) = 0.0005671415867795654\n",
            "PMF(X=3) = 0.0026466607383046382\n",
            "PMF(X=4) = 0.008932479991778153\n",
            "PMF(X=5) = 0.02322444797862319\n",
            "PMF(X=6) = 0.04838426662213165\n",
            "PMF(X=7) = 0.08294445706651138\n",
            "PMF(X=8) = 0.11923265703311009\n",
            "PMF(X=9) = 0.14572880304046787\n",
            "PMF(X=10) = 0.15301524319249124\n",
            "PMF(X=11) = 0.13910476653862835\n",
            "PMF(X=12) = 0.11012460684308079\n",
            "PMF(X=13) = 0.07624011242982515\n",
            "PMF(X=14) = 0.046288639689536684\n",
            "PMF(X=15) = 0.02468727450108623\n",
            "PMF(X=16) = 0.011572159922384166\n",
            "PMF(X=17) = 0.004765007026864068\n",
            "PMF(X=18) = 0.0017206969819231355\n",
            "PMF(X=19) = 0.0005433779942915164\n",
            "PMF(X=20) = 0.00014942894843016696\n",
            "PMF(X=21) = 3.557832105480165e-05\n",
            "PMF(X=22) = 7.277383852118519e-06\n",
            "PMF(X=23) = 1.2656319742814813e-06\n",
            "PMF(X=24) = 1.84571329582716e-07\n",
            "PMF(X=25) = 2.2148559549925914e-08\n",
            "PMF(X=26) = 2.129669187492876e-09\n",
            "PMF(X=27) = 1.577532731476204e-10\n",
            "PMF(X=28) = 8.451068204336808e-12\n",
            "PMF(X=29) = 2.9141614497713125e-13\n",
            "PMF(X=30) = 4.856935749618853e-15\n"
          ]
        }
      ],
      "id": "uHOVPDBwA7BY"
    },
    {
      "cell_type": "markdown",
      "source": [
        "## Problema de la caja de cerillos de Banach\n",
        "* En este análisis, hemos comparado la Función de Masa de Probabilidad (PMF) de dos distribuciones estadísticas: la **distribución hipergeométrica** y la **distribución binomial**\n",
        "\n",
        "* Ambas distribuciones se utilizaron para modelar el número de éxitos en una muestra de tamaño `n` extraída de una población de tamaño `N` con `m` éxitos posibles\n",
        "---\n",
        "\n",
        "### Resultados\n",
        "\n",
        "1. **Distribución Hipergeométrica**:\n",
        "   - La PMF de la distribución hipergeométrica se calculó utilizando la fórmula matemática para la probabilidad de obtener un número específico de éxitos en una muestra sin reemplazo\n",
        "   - La fórmula utilizada es:\n",
        "     $$\n",
        "     \\text{PMF}_{\\text{hipergeométrica}}(k) = f_{X}(k) = \\frac{\\binom{m}{i}\\binom{N-m}{n-i}}{\\binom{N}{n}} \\quad \\text{si } i=0,1,\\dots, n\n",
        "     $$\n",
        "   - Esta fórmula refleja la probabilidad de obtener `k` éxitos en una muestra de tamaño `n` de una población total de `N` elementos, donde hay `m` éxitos en la población\n",
        "\n",
        "2. **Distribución Binomial**:\n",
        "   - La PMF de la distribución binomial se calculó utilizando la fórmula para la probabilidad de obtener un número específico de éxitos en una muestra con reemplazo\n",
        "   - La fórmula utilizada es:\n",
        "     $$\n",
        "     \\text{PMF}_{\\text{binomial}}(k) = \\mathbb{P}(X=i)\\approx \\binom{n}{i}p^{i}(1-p)^{n-i}\n",
        "     $$\n",
        "   - Aquí, `p` es la probabilidad de éxito en cada prueba y `n` es el número de pruebas\n",
        "---\n",
        "### Comparación Visual\n",
        "\n",
        "Al graficar las PMFs de ambas distribuciones en el mismo gráfico, podemos observar:\n",
        "\n",
        "- **Distribución Hipergeométrica**: La PMF muestra una forma que depende del tamaño de la población y la muestra, con una caída más pronunciada si la proporción de éxitos en la población es baja o alta\n",
        "- **Distribución Binomial**: La PMF se basa en la probabilidad de éxito `p` y muestra una forma más uniforme que depende del número de pruebas `n`\n",
        "\n",
        "---\n",
        "### Conclusiónes\n",
        "\n",
        "- **Ajuste de Parámetros**: La distribución binomial puede aproximarse a la distribución hipergeométrica cuando el tamaño de la población es grande y la probabilidad de éxito es relativamente baja\n",
        "\n",
        "\n",
        "- **Interpretación**: Las diferencias en la forma de las PMFs reflejan las diferencias en las suposiciones de las distribuciones: la hipergeométrica asume una muestra sin reemplazo, mientras que la binomial asume reemplazo\n",
        "\n",
        "\n"
      ],
      "metadata": {
        "id": "8prhZI9YAcKX"
      },
      "id": "8prhZI9YAcKX"
    },
    {
      "cell_type": "markdown",
      "source": [
        "## Variable aleatoria Hipergeométrica con parámetros $n,N,m$.\n",
        "\n",
        "Supongamos que se elige, sin reemplazo, una muestra de tamaño $n$ de una urna que contiene $N$ bolas, de las cuales $m$ son rojas y $N-m$ son verdes. Sea $X$ el número de ebolas rojas seleccionadas, entonces su función de masa de probabilidades está dada por:\n",
        "$$f_{X}(k)=\n",
        "\t\\frac{\\binom{m}{i}\\binom{N-m}{n-i}}{\\binom{N}{n}} \\quad \\text{si } i=0,1,\\dots, n  \n",
        "$$\n",
        "\n",
        "\n",
        "\n",
        "Notación. $X\\sim \\text{Hiper}(n,N,m)$.\n",
        "\n",
        "Se tiene que\n",
        "$$\\mathbb{E}[X]=\\frac{nm}{N}$$\n",
        "y\n",
        "$$\\text{Var}[X]=\\frac{nm}{N}\\left[\\frac{(n-1)(m-1)}{N-1}+1-\\frac{nm}{N} \\right].$$\n",
        "\n",
        "**Nota.** Si $i\\leq n$ y $X\\sim \\text{Hiper}(n,N,m)$, cuando $p=\\frac{m}{N}$ y $m,N$ son muy grandes con respecto a $n$ e $i$:\n",
        "$$\\mathbb{P}(X=i)\\approx \\binom{n}{i}p^{i}(1-p)^{n-i}.$$"
      ],
      "metadata": {
        "id": "8veKIbyeoJNy"
      },
      "id": "8veKIbyeoJNy"
    },
    {
      "cell_type": "code",
      "source": [
        "# Simulación de una distribución hipergeometrica.\n",
        "n = 40  # tamaño total de la población\n",
        "m = 32  # número de éxitos en la población\n",
        "N = 7   # número de muestras (tamaño de la muestra)\n",
        "s = 100 # número de simulaciones (tamaño de la muestra generada)\n",
        "\n",
        "\n",
        "random.seed(3)\n",
        "# Generamos variables aleatorias hipergeométricas\n",
        "geom_numeros = sps.hypergeom.rvs(n, m, N, size=s)\n",
        "\n",
        "#Creo un histograma\n",
        "plt.figure(figsize=(10, 5))\n",
        "plt.hist(\n",
        "    geom_numeros,\n",
        "    density=True,\n",
        "    bins=len(np.unique(geom_numeros)),\n",
        "    color=\"#5865F2\",\n",
        "    edgecolor=\"grey\",\n",
        ")\n",
        "plt.xlabel(\" \")\n",
        "plt.ylabel(\"Probabilidad\")\n",
        "plt.title(\"Distribución HG \\npara [40,7,32]\")\n",
        "plt.xticks(\n",
        "    np.arange(min(geom_numeros), max(geom_numeros) + 1, 2.0)\n",
        ")\n",
        "plt.show()"
      ],
      "metadata": {
        "id": "4gWfCaZc_tMe"
      },
      "id": "4gWfCaZc_tMe",
      "execution_count": null,
      "outputs": []
    },
    {
      "cell_type": "markdown",
      "source": [
        "###$\\color{red}{\\text{Ejercicio 6.}}$\n",
        " Una compañía petrolera realiza un estudio geológico que indica que un pozo petrolero exploratorio debería tener un 20% de posibilidades de encontrar petróleo.\n",
        "\n",
        "- ¿Cuál es la probabilidad de que el primer pozo se produzca en el tercer pozo perforado?\n",
        "\n",
        "\\begin{align*}\n",
        "\\mathbb{P}(X=3)=&\\binom{n-1}{r-1}p^{r}(1-p)^{n-r}\\\\\n",
        "=&\\binom{3-1}{1-1}(0.2)^{1}(1-0.2)^{3-1}\\\\\n",
        "=&\\binom{2}{0}(0.2)(0.8)^{2}\\\\\n",
        "=&(1)(0.2)(0.8)^{2}\\\\\n",
        "=&0.128\n",
        "\\end{align*}\n",
        "\n",
        "Sajbiendo que la BN cuando $r=1$ entonces se tiene una distribución geométrica con $p=0.2$\n",
        "\n",
        "\\begin{align*}\n",
        "\\mathbb{P}(X=3)=&p(1-p)^{n-1}\\\\\n",
        "=&(0.2)(1-0.2)^{3-1}\\\\\n",
        "=&(0.2)(0.8)^{2}\\\\\n",
        "=&(0.2)(0.8)^{2}\\\\\n",
        "=&0.128\n",
        "\\end{align*}\n",
        "\n",
        "\n",
        "- ¿Cuál es la probabilidad de que el tercer pozo se produzca en el séptimo pozo perforado?\n",
        "\n",
        "\\begin{align*}\n",
        "\\mathbb{P}(X=7)=&\\binom{n-1}{r-1}p^{r}(1-p)^{n-r}\\\\\n",
        "=&\\binom{7-1}{3-1}(0.2)^{3}(1-0.2)^{7-3}\\\\\n",
        "=&\\binom{6}{2}(0.2)^{3}(0.8)^{4}\\\\\n",
        "=&\\frac{6!}{2!(6-2)!}(0.2)^{3}(0.8)^{4}\\\\\n",
        "=&\\frac{6 \\times 5}{2 \\times 1}(0.2)^{3}(0.8)^{4}\\\\\n",
        "=&0.049152\n",
        "\\end{align*}\n",
        "\n",
        "- ¿Cuál es la media y la varianza del número de pozos que se deben perforar si la compañía petrolera quiere establecer tres pozos productores?\n",
        "\n",
        "\n",
        "$$\\mathbb{E}[X]=\\frac{r}{p}=\\frac{3}{0.2}=15$$\n",
        "$$\\text{}$$\n",
        "$$\\text{Var}[X]=\\frac{r(1-p)}{p^2}=\\frac{3(1-0.2)}{0.2^2}=\\frac{3(0.8)}{0.2^2}=60$$"
      ],
      "metadata": {
        "id": "V1rp8sMJpwiz"
      },
      "id": "V1rp8sMJpwiz"
    },
    {
      "cell_type": "code",
      "source": [
        "#Importamos de scipy.stats las distribuciones binomial negativa y la geométrica\n",
        "from scipy.stats import nbinom\n",
        "from scipy.stats import geom\n",
        "\n",
        "#Considerando p=0.2\n",
        "\n",
        "#a) Para el primer caso\n",
        "print(\"a) La probabilidad de que el primer pozo se produzca en el tercer pozo perforado es:\",geom.pmf(3,0.2))\n",
        "\n",
        "#Para el segundo caso, para los parámetros de Python k=n-r=7-3=4, r=3, p=0.2\n",
        "print(\"\\nb) La probabilidad de que el tercer pozo se produzca en el séptimo pozo perforado es:\",nbinom.pmf(4,3,0.2))\n",
        "\n",
        "#Para obtener la media y la varianza de los 3 pozos con petróleo, r=3\n",
        "print(\"\\nc)Número de pozos que se deben perforar si la compañía petrolera quiere establecer tres pozos productores:\")\n",
        "\n",
        "#La media de python calcula número esperado de fracasos antes de obtener los r éxitos r(1-p)/p, por ello es necesario sumarle los r éxitos que buscas\n",
        "#razón por la cual usas el loc=3, para que considere todos los pozos a perforar,\n",
        "#mientras que la clásica te dará el valor esperado de ensayos a generar para tener los r éxitos que buscas\n",
        "\n",
        "print(\"\\nMedia:\",nbinom.mean(3,0.2)+3)\n",
        "print(\"Varianza:\",nbinom.var(3,0.2))\n"
      ],
      "metadata": {
        "colab": {
          "base_uri": "https://localhost:8080/"
        },
        "id": "bxpiig0UJRwP",
        "outputId": "b376f203-82b8-4997-cbe8-3a7ff373f917"
      },
      "id": "bxpiig0UJRwP",
      "execution_count": 1,
      "outputs": [
        {
          "output_type": "stream",
          "name": "stdout",
          "text": [
            "a) La probabilidad de que el primer pozo se produzca en el tercer pozo perforado es: 0.12800000000000003\n",
            "\n",
            "b) La probabilidad de que el tercer pozo se produzca en el séptimo pozo perforado es: 0.04915200000000004\n",
            "\n",
            "c)Número de pozos que se deben perforar si la compañía petrolera quiere establecer tres pozos productores:\n",
            "\n",
            "Media: 15.000000000000002\n",
            "Varianza: 60.0\n"
          ]
        }
      ]
    }
  ],
  "metadata": {
    "colab": {
      "provenance": [],
      "include_colab_link": true
    },
    "kernelspec": {
      "display_name": "Python 3 (ipykernel)",
      "language": "python",
      "name": "python3"
    },
    "language_info": {
      "codemirror_mode": {
        "name": "ipython",
        "version": 3
      },
      "file_extension": ".py",
      "mimetype": "text/x-python",
      "name": "python",
      "nbconvert_exporter": "python",
      "pygments_lexer": "ipython3",
      "version": "3.9.13"
    }
  },
  "nbformat": 4,
  "nbformat_minor": 5
}