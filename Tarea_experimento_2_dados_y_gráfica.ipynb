{
  "nbformat": 4,
  "nbformat_minor": 0,
  "metadata": {
    "colab": {
      "provenance": [],
      "collapsed_sections": [
        "WST2awCO5HSL",
        "zjt2XhWKr8rF",
        "xHLrJnTQ9myz",
        "btN4lkDMXY3t",
        "3E0_835LZidy",
        "lzTa9qnguVGK"
      ],
      "authorship_tag": "ABX9TyOrBXPCtDhHdZ1RLN7eCw+d",
      "include_colab_link": true
    },
    "kernelspec": {
      "name": "python3",
      "display_name": "Python 3"
    },
    "language_info": {
      "name": "python"
    }
  },
  "cells": [
    {
      "cell_type": "markdown",
      "metadata": {
        "id": "view-in-github",
        "colab_type": "text"
      },
      "source": [
        "<a href=\"https://colab.research.google.com/github/FernandaBarbabosa/M2-Modelos_Estadisticos/blob/main/Tarea_experimento_2_dados_y_gr%C3%A1fica.ipynb\" target=\"_parent\"><img src=\"https://colab.research.google.com/assets/colab-badge.svg\" alt=\"Open In Colab\"/></a>"
      ]
    },
    {
      "cell_type": "markdown",
      "source": [
        "Vamos a modelar con un experimento aleatorio, la ley (función de densidad) de una v.a. uniforme discreta"
      ],
      "metadata": {
        "id": "AjkHzAp74xOQ"
      }
    },
    {
      "cell_type": "markdown",
      "source": [
        "##Diccionarios\n",
        "\n",
        "Un diccionario es un objeto que se crea a partir de algo que se llama \"llave\" y nos arroja valores:\n",
        "\n",
        "\\{ key: values \\}\n",
        "\n",
        "Es como trabajar una tabla en Excel, donde de preferencia debería de haber la misma cantidad de valores en cada lista que agregues\n"
      ],
      "metadata": {
        "id": "WST2awCO5HSL"
      }
    },
    {
      "cell_type": "code",
      "execution_count": null,
      "metadata": {
        "colab": {
          "base_uri": "https://localhost:8080/"
        },
        "id": "CE0QTxgI0Gvl",
        "outputId": "ad4b16db-dd82-4daa-b1a5-5525c9e26bd5"
      },
      "outputs": [
        {
          "output_type": "execute_result",
          "data": {
            "text/plain": [
              "{'Fernanda': ['Masha', 'Snow'], 'Nivel': [7, 10], 'Calificaciones': [6.2, 8.3]}"
            ]
          },
          "metadata": {},
          "execution_count": 11
        }
      ],
      "source": [
        "d={\"Fernanda\":[\"Masha\",\"Snow\"],\n",
        "      \"Nivel\":[7,10],\n",
        "      \"Calificaciones\":[6.2,8.3]}\n",
        "d"
      ]
    },
    {
      "cell_type": "code",
      "source": [
        "type(d) #Tipo"
      ],
      "metadata": {
        "colab": {
          "base_uri": "https://localhost:8080/"
        },
        "id": "dEVwJOuu7xR-",
        "outputId": "8f7f8015-74b6-47ce-8ff0-dcc3d3860a71"
      },
      "execution_count": null,
      "outputs": [
        {
          "output_type": "execute_result",
          "data": {
            "text/plain": [
              "dict"
            ]
          },
          "metadata": {},
          "execution_count": 12
        }
      ]
    },
    {
      "cell_type": "code",
      "source": [
        "d.keys() #Son las llaves del diccionario d"
      ],
      "metadata": {
        "colab": {
          "base_uri": "https://localhost:8080/"
        },
        "id": "1CxBrQMv71be",
        "outputId": "b948b2cb-327c-4be4-de4b-8fb656fcd9b2"
      },
      "execution_count": null,
      "outputs": [
        {
          "output_type": "execute_result",
          "data": {
            "text/plain": [
              "dict_keys(['Fernanda', 'Nivel', 'Calificaciones'])"
            ]
          },
          "metadata": {},
          "execution_count": 13
        }
      ]
    },
    {
      "cell_type": "code",
      "source": [
        "d.values() #Valores correspondientes de cada llave"
      ],
      "metadata": {
        "colab": {
          "base_uri": "https://localhost:8080/"
        },
        "id": "9P-Vgn8r8OtR",
        "outputId": "785cd6da-11dc-4213-a24c-6629c656c766"
      },
      "execution_count": null,
      "outputs": [
        {
          "output_type": "execute_result",
          "data": {
            "text/plain": [
              "dict_values([['Masha', 'Snow'], [7, 10], [6.2, 8.3]])"
            ]
          },
          "metadata": {},
          "execution_count": 14
        }
      ]
    },
    {
      "cell_type": "code",
      "source": [
        "#Como el diccionario es un conjunto de listas, no puedes acceder directamente\n",
        "d.values()[0]"
      ],
      "metadata": {
        "colab": {
          "base_uri": "https://localhost:8080/",
          "height": 159
        },
        "id": "JXRORBXz8yiz",
        "outputId": "8bc4846f-ba78-4c62-dffe-e214d476f610"
      },
      "execution_count": null,
      "outputs": [
        {
          "output_type": "error",
          "ename": "TypeError",
          "evalue": "'dict_values' object is not subscriptable",
          "traceback": [
            "\u001b[0;31m---------------------------------------------------------------------------\u001b[0m",
            "\u001b[0;31mTypeError\u001b[0m                                 Traceback (most recent call last)",
            "\u001b[0;32m<ipython-input-15-c4f33ca82245>\u001b[0m in \u001b[0;36m<cell line: 2>\u001b[0;34m()\u001b[0m\n\u001b[1;32m      1\u001b[0m \u001b[0;31m#Como el diccionario es un conjunto de listas, no puedes acceder directamente\u001b[0m\u001b[0;34m\u001b[0m\u001b[0;34m\u001b[0m\u001b[0m\n\u001b[0;32m----> 2\u001b[0;31m \u001b[0md\u001b[0m\u001b[0;34m.\u001b[0m\u001b[0mvalues\u001b[0m\u001b[0;34m(\u001b[0m\u001b[0;34m)\u001b[0m\u001b[0;34m[\u001b[0m\u001b[0;36m0\u001b[0m\u001b[0;34m]\u001b[0m\u001b[0;34m\u001b[0m\u001b[0;34m\u001b[0m\u001b[0m\n\u001b[0m",
            "\u001b[0;31mTypeError\u001b[0m: 'dict_values' object is not subscriptable"
          ]
        }
      ]
    },
    {
      "cell_type": "code",
      "source": [
        "d.items() #Da los elementos de cada uno de los pares ordenados del directorio"
      ],
      "metadata": {
        "colab": {
          "base_uri": "https://localhost:8080/"
        },
        "id": "fDUIC8AF8-RS",
        "outputId": "7f18a2eb-c10f-4367-b274-29b7f6c6d8d1"
      },
      "execution_count": null,
      "outputs": [
        {
          "output_type": "execute_result",
          "data": {
            "text/plain": [
              "dict_items([('Fernanda', ['Masha', 'Snow']), ('Nivel', [7, 10]), ('Calificaciones', [6.2, 8.3])])"
            ]
          },
          "metadata": {},
          "execution_count": 17
        }
      ]
    },
    {
      "cell_type": "markdown",
      "source": [
        "#Ejemplo de la v.a. uniforme"
      ],
      "metadata": {
        "id": "zjt2XhWKr8rF"
      }
    },
    {
      "cell_type": "markdown",
      "source": [
        "Sea el experimento aleatorio de lanzar dos dados justos:\n",
        "\n",
        "* $\\Omega = \\{1,2,3,4,5,6\\} \\times \\{1,2,3,4,5,6\\}$\n",
        "* $\\mathcal{F} = P (\\Omega)$\n",
        "* Para $w=(i,j)$ donde $i,j \\in\\{1,...,6\\}$ tal que\n",
        "\n",
        "  $$\\mathbb{P}(\\{\\omega\\})=\\frac{1}{36}$$\n",
        "  \n",
        "Vamos a definir a la siguienute variable aleatoria\n",
        "\n",
        "$$S:\\Omega \\to R_{S} $$\n",
        "\n",
        "donde $R_{S}=\\{2,3,4,5,6,7,8,9,10,11,12\\}$\n",
        "\n",
        "Para que entendamos la ley de una v.a, basta con entender los siguientes datos\n",
        "\n",
        "$$\\{(k, \\mathbb{P}(S=k))\\}_{k \\in R_{S}}$$\n",
        "\n",
        "\n",
        "Vamos a entender a S como eventos.\n",
        "\n",
        "Sea $S_n$ el evento donde la suma de las caras da $n$\n",
        "\n",
        "$$S_{n} = \\{(i,j)\\in \\Omega \\mid i+j=k \\}$$\n"
      ],
      "metadata": {
        "id": "xHLrJnTQ9myz"
      }
    },
    {
      "cell_type": "code",
      "source": [
        "from itertools import product #Para el producto cartesiano\n",
        "from fractions import Fraction #para poder usar la función fraccion"
      ],
      "metadata": {
        "id": "qqNUhwBJA8qN"
      },
      "execution_count": null,
      "outputs": []
    },
    {
      "cell_type": "markdown",
      "source": [
        "Primero vamos a crear una función de probabilidad global:"
      ],
      "metadata": {
        "id": "N-OCckJ4BOYW"
      }
    },
    {
      "cell_type": "code",
      "source": [
        "def P(A,Omega):\n",
        "  P=Fraction(len(A),len(Omega))\n",
        "  return P"
      ],
      "metadata": {
        "id": "awMhfilOA85C"
      },
      "execution_count": null,
      "outputs": []
    },
    {
      "cell_type": "code",
      "source": [
        "S_2={(i,j) for i in range (1,7) for j in range(1,7)\n",
        "  if i+j==2}\n",
        "S_2\n",
        "# En este caso se tendría que hacer cada caso hasta que i+j sea 12,\n",
        "#por lo que mejor usamos un diccionario"
      ],
      "metadata": {
        "colab": {
          "base_uri": "https://localhost:8080/"
        },
        "id": "WvlO7jzICyjI",
        "outputId": "05e78ccd-473c-4665-d059-d1402afe7899"
      },
      "execution_count": null,
      "outputs": [
        {
          "output_type": "execute_result",
          "data": {
            "text/plain": [
              "{(1, 1)}"
            ]
          },
          "metadata": {},
          "execution_count": 5
        }
      ]
    },
    {
      "cell_type": "markdown",
      "source": [
        "Nota. Realizar esto para cada valor de $n$ quita tiempo. Vamos a hacer esto más rápido utilizando diccionarios"
      ],
      "metadata": {
        "id": "M1Bh9B07DowI"
      }
    },
    {
      "cell_type": "code",
      "source": [
        "#Primero vamos a crear a nuestro espacio muestral Omega\n",
        "L=[i for i in range (1,7)] #Lista por comprensión\n",
        "#print(L)\n",
        "Omega= set(product(L,repeat=2))\n",
        "Omega"
      ],
      "metadata": {
        "colab": {
          "base_uri": "https://localhost:8080/"
        },
        "id": "pUR4AoNFED9g",
        "outputId": "dfe25618-7d3c-4093-80d2-ce423a78d561"
      },
      "execution_count": null,
      "outputs": [
        {
          "output_type": "execute_result",
          "data": {
            "text/plain": [
              "{(1, 1),\n",
              " (1, 2),\n",
              " (1, 3),\n",
              " (1, 4),\n",
              " (1, 5),\n",
              " (1, 6),\n",
              " (2, 1),\n",
              " (2, 2),\n",
              " (2, 3),\n",
              " (2, 4),\n",
              " (2, 5),\n",
              " (2, 6),\n",
              " (3, 1),\n",
              " (3, 2),\n",
              " (3, 3),\n",
              " (3, 4),\n",
              " (3, 5),\n",
              " (3, 6),\n",
              " (4, 1),\n",
              " (4, 2),\n",
              " (4, 3),\n",
              " (4, 4),\n",
              " (4, 5),\n",
              " (4, 6),\n",
              " (5, 1),\n",
              " (5, 2),\n",
              " (5, 3),\n",
              " (5, 4),\n",
              " (5, 5),\n",
              " (5, 6),\n",
              " (6, 1),\n",
              " (6, 2),\n",
              " (6, 3),\n",
              " (6, 4),\n",
              " (6, 5),\n",
              " (6, 6)}"
            ]
          },
          "metadata": {},
          "execution_count": 6
        }
      ]
    },
    {
      "cell_type": "code",
      "source": [
        "S={(i,j):i+j for i,j in Omega} #Da la suma de cada uno de los pares ordenados\n",
        "S"
      ],
      "metadata": {
        "colab": {
          "base_uri": "https://localhost:8080/"
        },
        "id": "5B0-jYPPFNVJ",
        "outputId": "e6031619-ffe7-48db-ff6e-a72df0820c45"
      },
      "execution_count": null,
      "outputs": [
        {
          "output_type": "execute_result",
          "data": {
            "text/plain": [
              "{(3, 4): 7,\n",
              " (4, 3): 7,\n",
              " (3, 1): 4,\n",
              " (5, 4): 9,\n",
              " (4, 6): 10,\n",
              " (5, 1): 6,\n",
              " (2, 2): 4,\n",
              " (1, 6): 7,\n",
              " (2, 5): 7,\n",
              " (1, 3): 4,\n",
              " (6, 2): 8,\n",
              " (6, 5): 11,\n",
              " (4, 2): 6,\n",
              " (4, 5): 9,\n",
              " (3, 3): 6,\n",
              " (5, 6): 11,\n",
              " (3, 6): 9,\n",
              " (5, 3): 8,\n",
              " (2, 4): 6,\n",
              " (1, 2): 3,\n",
              " (2, 1): 3,\n",
              " (1, 5): 6,\n",
              " (6, 1): 7,\n",
              " (6, 4): 10,\n",
              " (3, 2): 5,\n",
              " (4, 1): 5,\n",
              " (3, 5): 8,\n",
              " (5, 2): 7,\n",
              " (4, 4): 8,\n",
              " (5, 5): 10,\n",
              " (1, 1): 2,\n",
              " (1, 4): 5,\n",
              " (2, 3): 5,\n",
              " (2, 6): 8,\n",
              " (6, 6): 12,\n",
              " (6, 3): 9}"
            ]
          },
          "metadata": {},
          "execution_count": 7
        }
      ]
    },
    {
      "cell_type": "code",
      "source": [
        "#Vamos a crear un diccionario por default de manera sintética y arreglada\n",
        "from collections import defaultdict\n",
        "dS=defaultdict(set) #los parentesis los rellenas con set porque vas a agregar conjuntos\n",
        "dS"
      ],
      "metadata": {
        "colab": {
          "base_uri": "https://localhost:8080/"
        },
        "id": "bxyLdJMkGN2q",
        "outputId": "d37c7968-cbf9-4098-e77c-fd608eac6edd"
      },
      "execution_count": null,
      "outputs": [
        {
          "output_type": "execute_result",
          "data": {
            "text/plain": [
              "defaultdict(set, {})"
            ]
          },
          "metadata": {},
          "execution_count": 8
        }
      ]
    },
    {
      "cell_type": "markdown",
      "source": [
        "Vamos a añadir elementos a un diccionario que está vacío"
      ],
      "metadata": {
        "id": "dY2KbZyLHdZc"
      }
    },
    {
      "cell_type": "code",
      "source": [
        "for (i,j) in S.items():\n",
        "  #print(j)\n",
        "#Si imprimo j, me da los valores del diccionario\n",
        "#Si imprimo i, me da los elementos de la izquierda (llaves)"
      ],
      "metadata": {
        "colab": {
          "base_uri": "https://localhost:8080/",
          "height": 106
        },
        "id": "CEWRppwPHpNZ",
        "outputId": "5d7462d0-0841-4440-ba62-73d73570256f"
      },
      "execution_count": null,
      "outputs": [
        {
          "output_type": "error",
          "ename": "SyntaxError",
          "evalue": "incomplete input (<ipython-input-43-c3f388926422>, line 4)",
          "traceback": [
            "\u001b[0;36m  File \u001b[0;32m\"<ipython-input-43-c3f388926422>\"\u001b[0;36m, line \u001b[0;32m4\u001b[0m\n\u001b[0;31m    #Si imprimo i, me da los elementos de la izquierda (llaves)\u001b[0m\n\u001b[0m                                                               ^\u001b[0m\n\u001b[0;31mSyntaxError\u001b[0m\u001b[0;31m:\u001b[0m incomplete input\n"
          ]
        }
      ]
    },
    {
      "cell_type": "code",
      "source": [
        "for i,j in S.items():\n",
        "  dS[j].add(i) #añadiendo al diccionario las llaves\n",
        "dS"
      ],
      "metadata": {
        "colab": {
          "base_uri": "https://localhost:8080/"
        },
        "id": "gpVakfaKIxCh",
        "outputId": "01beebc5-2997-4f85-b3ac-9cb376cfd447"
      },
      "execution_count": null,
      "outputs": [
        {
          "output_type": "execute_result",
          "data": {
            "text/plain": [
              "defaultdict(set,\n",
              "            {7: {(1, 6), (2, 5), (3, 4), (4, 3), (5, 2), (6, 1)},\n",
              "             4: {(1, 3), (2, 2), (3, 1)},\n",
              "             9: {(3, 6), (4, 5), (5, 4), (6, 3)},\n",
              "             10: {(4, 6), (5, 5), (6, 4)},\n",
              "             6: {(1, 5), (2, 4), (3, 3), (4, 2), (5, 1)},\n",
              "             8: {(2, 6), (3, 5), (4, 4), (5, 3), (6, 2)},\n",
              "             11: {(5, 6), (6, 5)},\n",
              "             3: {(1, 2), (2, 1)},\n",
              "             5: {(1, 4), (2, 3), (3, 2), (4, 1)},\n",
              "             2: {(1, 1)},\n",
              "             12: {(6, 6)}})"
            ]
          },
          "metadata": {},
          "execution_count": 9
        }
      ]
    },
    {
      "cell_type": "code",
      "source": [
        "#A cada elemento de la suma (k), le voy a dar una subprobabilidad\n",
        "#A es un conjunto de omega donde las k son las sumas del conjunto dS\n",
        "leyS={k: P(A,Omega) for k,A in dS.items()}\n",
        "leyS\n",
        "#El resultado que te da es la función de densidad la cual se interpreta como:\n",
        "#1/6 si k=7 porque son 6 pares ordenados con posibilidad de dar suma 7 de los 36 pares totales de omega\n",
        "#1/12 si k=4, 1/9 si k=9,..."
      ],
      "metadata": {
        "colab": {
          "base_uri": "https://localhost:8080/"
        },
        "id": "Ub_0LYV8KjMn",
        "outputId": "73819fcb-bb33-4f3c-9484-6c0e9b43ceaf"
      },
      "execution_count": null,
      "outputs": [
        {
          "output_type": "execute_result",
          "data": {
            "text/plain": [
              "{7: Fraction(1, 6),\n",
              " 4: Fraction(1, 12),\n",
              " 9: Fraction(1, 9),\n",
              " 10: Fraction(1, 12),\n",
              " 6: Fraction(5, 36),\n",
              " 8: Fraction(5, 36),\n",
              " 11: Fraction(1, 18),\n",
              " 3: Fraction(1, 18),\n",
              " 5: Fraction(1, 9),\n",
              " 2: Fraction(1, 36),\n",
              " 12: Fraction(1, 36)}"
            ]
          },
          "metadata": {},
          "execution_count": 10
        }
      ]
    },
    {
      "cell_type": "markdown",
      "source": [
        "#Introducción a Pandas en Python\n"
      ],
      "metadata": {
        "id": "btN4lkDMXY3t"
      }
    },
    {
      "cell_type": "code",
      "source": [
        "import pandas as pd"
      ],
      "metadata": {
        "id": "O8JfPQevYfGN"
      },
      "execution_count": null,
      "outputs": []
    },
    {
      "cell_type": "code",
      "source": [
        "leyS=pd.Series(leyS) #Darle forma de matriz al resultado de leyS\n",
        "leyS=leyS.sort_index() #Ordena la columna de las sumas de la menor a mayor\n",
        "leyS"
      ],
      "metadata": {
        "colab": {
          "base_uri": "https://localhost:8080/",
          "height": 429
        },
        "id": "HeDqrKG-Yi3x",
        "outputId": "0980fba7-1f04-45df-802d-e7cc07c4e618"
      },
      "execution_count": null,
      "outputs": [
        {
          "output_type": "execute_result",
          "data": {
            "text/plain": [
              "2     1/36\n",
              "3     1/18\n",
              "4     1/12\n",
              "5      1/9\n",
              "6     5/36\n",
              "7      1/6\n",
              "8     5/36\n",
              "9      1/9\n",
              "10    1/12\n",
              "11    1/18\n",
              "12    1/36\n",
              "dtype: object"
            ],
            "text/html": [
              "<div>\n",
              "<style scoped>\n",
              "    .dataframe tbody tr th:only-of-type {\n",
              "        vertical-align: middle;\n",
              "    }\n",
              "\n",
              "    .dataframe tbody tr th {\n",
              "        vertical-align: top;\n",
              "    }\n",
              "\n",
              "    .dataframe thead th {\n",
              "        text-align: right;\n",
              "    }\n",
              "</style>\n",
              "<table border=\"1\" class=\"dataframe\">\n",
              "  <thead>\n",
              "    <tr style=\"text-align: right;\">\n",
              "      <th></th>\n",
              "      <th>0</th>\n",
              "    </tr>\n",
              "  </thead>\n",
              "  <tbody>\n",
              "    <tr>\n",
              "      <th>2</th>\n",
              "      <td>1/36</td>\n",
              "    </tr>\n",
              "    <tr>\n",
              "      <th>3</th>\n",
              "      <td>1/18</td>\n",
              "    </tr>\n",
              "    <tr>\n",
              "      <th>4</th>\n",
              "      <td>1/12</td>\n",
              "    </tr>\n",
              "    <tr>\n",
              "      <th>5</th>\n",
              "      <td>1/9</td>\n",
              "    </tr>\n",
              "    <tr>\n",
              "      <th>6</th>\n",
              "      <td>5/36</td>\n",
              "    </tr>\n",
              "    <tr>\n",
              "      <th>7</th>\n",
              "      <td>1/6</td>\n",
              "    </tr>\n",
              "    <tr>\n",
              "      <th>8</th>\n",
              "      <td>5/36</td>\n",
              "    </tr>\n",
              "    <tr>\n",
              "      <th>9</th>\n",
              "      <td>1/9</td>\n",
              "    </tr>\n",
              "    <tr>\n",
              "      <th>10</th>\n",
              "      <td>1/12</td>\n",
              "    </tr>\n",
              "    <tr>\n",
              "      <th>11</th>\n",
              "      <td>1/18</td>\n",
              "    </tr>\n",
              "    <tr>\n",
              "      <th>12</th>\n",
              "      <td>1/36</td>\n",
              "    </tr>\n",
              "  </tbody>\n",
              "</table>\n",
              "</div><br><label><b>dtype:</b> object</label>"
            ]
          },
          "metadata": {},
          "execution_count": 13
        }
      ]
    },
    {
      "cell_type": "markdown",
      "source": [
        "#Tarea: Ejercicios de v.a lanzamiento de dos dados#"
      ],
      "metadata": {
        "id": "BFqZKkZnsEfu"
      }
    },
    {
      "cell_type": "markdown",
      "source": [
        "**Ejercicios**\n",
        "\n",
        "\n",
        "1.   Documenta tu colab\n",
        "2.   Calcular la ley de las siguientes variables aleatorias\n",
        "    - La diferencia de las caras es mayor a 1\n",
        "    - La suma de las caras sea par\n",
        "3.   Verificar en cada caso, que\n",
        "$$\\sum_{k\\in R_{X}}\\mathbb{P}(X=k)=1$$\n",
        "\n",
        "4.  Grafica la función de distribución de la v.a. $S= \\{(i,j)\\in \\Omega \\mid i+j=k \\}$\n",
        "5.   Sube tu notebook a GitHub\n",
        "\n",
        "\n",
        "\n",
        "\n",
        "\n",
        "\n",
        "\n"
      ],
      "metadata": {
        "id": "3E0_835LZidy"
      }
    },
    {
      "cell_type": "markdown",
      "source": [
        "##Calcular la ley de la v.a la diferencia de las caras es mayor a 1\n",
        "\n",
        "Utilizando la lista $L= [1,2,3,4,5,6]$ con los número posibles del dado y al conjunto\n",
        "$\\Omega = \\{1,2,3,4,5,6\\} \\times \\{1,2,3,4,5,6\\}$  que contiene a los posibles pares ordenados de lanzar los dos dados.\n",
        "\n",
        "Se define al conjunto $S_{d}$ un subconjunto de $\\Omega$ para conocer los distintos pares con su valor de diferencia que cumpla la definición de la v.a."
      ],
      "metadata": {
        "id": "Mb3v61hdttZ6"
      }
    },
    {
      "cell_type": "code",
      "source": [
        "from itertools import product #Para el producto cartesiano\n",
        "from fractions import Fraction #para poder usar la función fraccion"
      ],
      "metadata": {
        "id": "u5jxQSQ9tFdb"
      },
      "execution_count": 1,
      "outputs": []
    },
    {
      "cell_type": "code",
      "source": [
        "#Prueba para conocer todas las diferencias de los pares al lanzar dos dados\n",
        "S_dp={(i,j):i-j for i,j in Omega}\n",
        "S_dp"
      ],
      "metadata": {
        "colab": {
          "base_uri": "https://localhost:8080/"
        },
        "id": "TLQD6Yf3oHcz",
        "outputId": "68675a7a-5f35-463f-aaae-d1afabd6bec1"
      },
      "execution_count": null,
      "outputs": [
        {
          "output_type": "execute_result",
          "data": {
            "text/plain": [
              "{(3, 4): -1,\n",
              " (4, 3): 1,\n",
              " (3, 1): 2,\n",
              " (5, 4): 1,\n",
              " (4, 6): -2,\n",
              " (5, 1): 4,\n",
              " (2, 2): 0,\n",
              " (1, 6): -5,\n",
              " (2, 5): -3,\n",
              " (1, 3): -2,\n",
              " (6, 2): 4,\n",
              " (6, 5): 1,\n",
              " (4, 2): 2,\n",
              " (4, 5): -1,\n",
              " (3, 3): 0,\n",
              " (5, 6): -1,\n",
              " (3, 6): -3,\n",
              " (5, 3): 2,\n",
              " (2, 4): -2,\n",
              " (1, 2): -1,\n",
              " (2, 1): 1,\n",
              " (1, 5): -4,\n",
              " (6, 1): 5,\n",
              " (6, 4): 2,\n",
              " (3, 2): 1,\n",
              " (4, 1): 3,\n",
              " (3, 5): -2,\n",
              " (5, 2): 3,\n",
              " (4, 4): 0,\n",
              " (5, 5): 0,\n",
              " (1, 1): 0,\n",
              " (1, 4): -3,\n",
              " (2, 3): -1,\n",
              " (2, 6): -4,\n",
              " (6, 6): 0,\n",
              " (6, 3): 3}"
            ]
          },
          "metadata": {},
          "execution_count": 58
        }
      ]
    },
    {
      "cell_type": "code",
      "source": [
        "#Da la diferencia de cada uno de los pares ordenados con diferencia mayor a 1\n",
        "S_d={(i,j):i-j for i,j in Omega if i-j>1}\n",
        "S_d"
      ],
      "metadata": {
        "colab": {
          "base_uri": "https://localhost:8080/"
        },
        "id": "2pLBWb86tOdH",
        "outputId": "8cd1c592-d14d-429c-99c8-6433720673ec"
      },
      "execution_count": null,
      "outputs": [
        {
          "output_type": "execute_result",
          "data": {
            "text/plain": [
              "{(3, 1): 2,\n",
              " (5, 1): 4,\n",
              " (6, 2): 4,\n",
              " (4, 2): 2,\n",
              " (5, 3): 2,\n",
              " (6, 1): 5,\n",
              " (6, 4): 2,\n",
              " (4, 1): 3,\n",
              " (5, 2): 3,\n",
              " (6, 3): 3}"
            ]
          },
          "metadata": {},
          "execution_count": 14
        }
      ]
    },
    {
      "cell_type": "code",
      "source": [
        "#Define al conjunto Omega2, conformado por los pares ordenados para obtener su cardinalidad\n",
        "Omega2=S_d.keys()\n",
        "Omega2"
      ],
      "metadata": {
        "colab": {
          "base_uri": "https://localhost:8080/"
        },
        "id": "j6mPBbufSUdY",
        "outputId": "e6e93c48-2336-42f3-8389-8bb69e3b41e8"
      },
      "execution_count": null,
      "outputs": [
        {
          "output_type": "execute_result",
          "data": {
            "text/plain": [
              "dict_keys([(3, 1), (5, 1), (6, 2), (4, 2), (5, 3), (6, 1), (6, 4), (4, 1), (5, 2), (6, 3)])"
            ]
          },
          "metadata": {},
          "execution_count": 29
        }
      ]
    },
    {
      "cell_type": "code",
      "source": [
        "#Cardinalidad de Omega2\n",
        "len(Omega2)"
      ],
      "metadata": {
        "colab": {
          "base_uri": "https://localhost:8080/"
        },
        "id": "IKWPcaZrTyIl",
        "outputId": "7747d783-b01c-4c21-9514-31f9ac11b857"
      },
      "execution_count": null,
      "outputs": [
        {
          "output_type": "execute_result",
          "data": {
            "text/plain": [
              "10"
            ]
          },
          "metadata": {},
          "execution_count": 31
        }
      ]
    },
    {
      "cell_type": "code",
      "source": [
        "#Se define la función que considera al evento A y a Omega2\n",
        "#para poder conocer la probabilidad de ocurrencia\n",
        "def P2(A,Omega2):\n",
        "  P2=Fraction(len(A),len(Omega2))\n",
        "  return P2"
      ],
      "metadata": {
        "id": "IeITQrkTTZ9W"
      },
      "execution_count": null,
      "outputs": []
    },
    {
      "cell_type": "code",
      "source": [
        "#Vamos a crear un diccionario por default de manera sintética y arreglada\n",
        "from collections import defaultdict\n",
        "dS_d=defaultdict(set) #los parentesis los rellenas con set porque vas a agregar conjuntos\n",
        "dS_d"
      ],
      "metadata": {
        "colab": {
          "base_uri": "https://localhost:8080/"
        },
        "id": "AskOPz4Ou-GX",
        "outputId": "a418e6b2-a27d-414c-bc52-a8a11ca9e181"
      },
      "execution_count": null,
      "outputs": [
        {
          "output_type": "execute_result",
          "data": {
            "text/plain": [
              "defaultdict(set, {})"
            ]
          },
          "metadata": {},
          "execution_count": 15
        }
      ]
    },
    {
      "cell_type": "code",
      "source": [
        "#Si imprimo j, me da los resultados de las diferencias de los pares del diccionario\n",
        "#Si imprimo i, me da los elementos de la izquierda (llaves)\n",
        "for i,j in S_d.items():\n",
        "  dS_d[j].add(i) #Para cada j, añades al diccionario la llave i\n",
        "dS_d"
      ],
      "metadata": {
        "colab": {
          "base_uri": "https://localhost:8080/"
        },
        "id": "ZyZ1NrmLvZ00",
        "outputId": "d71a6624-1502-4bfe-f918-858f1b5fba7f"
      },
      "execution_count": null,
      "outputs": [
        {
          "output_type": "execute_result",
          "data": {
            "text/plain": [
              "defaultdict(set,\n",
              "            {2: {(3, 1), (4, 2), (5, 3), (6, 4)},\n",
              "             4: {(5, 1), (6, 2)},\n",
              "             5: {(6, 1)},\n",
              "             3: {(4, 1), (5, 2), (6, 3)}})"
            ]
          },
          "metadata": {},
          "execution_count": 40
        }
      ]
    },
    {
      "cell_type": "code",
      "source": [
        "leyS_d={k: P2(A,Omega2) for k,A in dS_d.items()}\n",
        "leyS_d"
      ],
      "metadata": {
        "colab": {
          "base_uri": "https://localhost:8080/"
        },
        "id": "NsxoYCGtM15v",
        "outputId": "a669d2f7-3279-4d4c-8ecc-18b45c8490a1"
      },
      "execution_count": null,
      "outputs": [
        {
          "output_type": "execute_result",
          "data": {
            "text/plain": [
              "{2: Fraction(2, 5), 4: Fraction(1, 5), 5: Fraction(1, 10), 3: Fraction(3, 10)}"
            ]
          },
          "metadata": {},
          "execution_count": 41
        }
      ]
    },
    {
      "cell_type": "code",
      "source": [
        "import pandas as pd\n",
        "leyS_d=pd.Series(leyS_d) #Darle forma de matriz al resultado de leyS_d\n",
        "leyS_d=leyS_d.sort_index() #Ordena la columna de las sumas de la menor a mayor\n",
        "leyS_d"
      ],
      "metadata": {
        "colab": {
          "base_uri": "https://localhost:8080/",
          "height": 210
        },
        "id": "OKYLBGDpWt1N",
        "outputId": "2c80d48a-e215-4e6e-8c8d-8e09184b4966"
      },
      "execution_count": null,
      "outputs": [
        {
          "output_type": "execute_result",
          "data": {
            "text/plain": [
              "2     2/5\n",
              "3    3/10\n",
              "4     1/5\n",
              "5    1/10\n",
              "dtype: object"
            ],
            "text/html": [
              "<div>\n",
              "<style scoped>\n",
              "    .dataframe tbody tr th:only-of-type {\n",
              "        vertical-align: middle;\n",
              "    }\n",
              "\n",
              "    .dataframe tbody tr th {\n",
              "        vertical-align: top;\n",
              "    }\n",
              "\n",
              "    .dataframe thead th {\n",
              "        text-align: right;\n",
              "    }\n",
              "</style>\n",
              "<table border=\"1\" class=\"dataframe\">\n",
              "  <thead>\n",
              "    <tr style=\"text-align: right;\">\n",
              "      <th></th>\n",
              "      <th>0</th>\n",
              "    </tr>\n",
              "  </thead>\n",
              "  <tbody>\n",
              "    <tr>\n",
              "      <th>2</th>\n",
              "      <td>2/5</td>\n",
              "    </tr>\n",
              "    <tr>\n",
              "      <th>3</th>\n",
              "      <td>3/10</td>\n",
              "    </tr>\n",
              "    <tr>\n",
              "      <th>4</th>\n",
              "      <td>1/5</td>\n",
              "    </tr>\n",
              "    <tr>\n",
              "      <th>5</th>\n",
              "      <td>1/10</td>\n",
              "    </tr>\n",
              "  </tbody>\n",
              "</table>\n",
              "</div><br><label><b>dtype:</b> object</label>"
            ]
          },
          "metadata": {},
          "execution_count": 43
        }
      ]
    },
    {
      "cell_type": "markdown",
      "source": [
        "- Por lo tanto la  para la variable aleatoria $\n",
        "S_{d} =\n",
        "\\begin{cases}\n",
        "(i,j)\\in \\Omega \\mid&\\text{i-j=k > 1 }\\}\n",
        "\\end{cases}\n",
        "$\n",
        "\n",
        "> $$\n",
        "f(x) =\n",
        "\\begin{cases}\n",
        "\\frac{4}{10} & \\text{, si } x=2\\\\\n",
        "\\frac{3}{10} & \\text{, si } x=3\\\\\n",
        "\\frac{2}{10} & \\text{, si } x=4\\\\\n",
        "\\frac{1}{10} & \\text{, si } x=5\\\\\n",
        "0 & \\text{, e.o.c}\n",
        "\\end{cases}\n",
        "$$\n",
        "\n",
        "- Verificar que\n",
        "$$\\sum_{k\\in R_{X}}\\mathbb{P}(X=k)=1$$\n",
        "\n",
        "$$\\mathbb{P}(X=2)+\\mathbb{P}(X=3)+\\mathbb{P}(X=4)+\\mathbb{P}(X=5)=1$$\n",
        "\n",
        "\n",
        "$$\\frac{4}{10}+\\frac{3}{10}+\\frac{2}{10}+\\frac{1}{10}= 1$$\n",
        "\n",
        "\n",
        "\n"
      ],
      "metadata": {
        "id": "pRe-6OBhXg8p"
      }
    },
    {
      "cell_type": "code",
      "source": [
        "#Comprobar que la función de densidad es igual a 1\n",
        "Fx=Fraction(4,10)+Fraction(3,10)+Fraction(2,10)+Fraction(1,10)\n",
        "Fx"
      ],
      "metadata": {
        "colab": {
          "base_uri": "https://localhost:8080/"
        },
        "id": "ajEH1XAzpxnt",
        "outputId": "d450ca5a-bb98-4280-edf0-b3af1bb68f08"
      },
      "execution_count": 3,
      "outputs": [
        {
          "output_type": "execute_result",
          "data": {
            "text/plain": [
              "Fraction(1, 1)"
            ]
          },
          "metadata": {},
          "execution_count": 3
        }
      ]
    },
    {
      "cell_type": "markdown",
      "source": [
        "##Calcular la ley de la v.a la suma de las caras es par\n",
        "\n",
        "Utilizando la lista $L= [1,2,3,4,5,6]$ con los número posibles del dado y al conjunto\n",
        "$\\Omega = \\{1,2,3,4,5,6\\} \\times \\{1,2,3,4,5,6\\}$  que contiene a los posibles pares ordenados de lanzar los dos dados.\n",
        "\n",
        "Se define al conjunto $S_{par}$ un subconjunto de $\\Omega$ para conocer los distintos pares con su valor de diferencia que cumpla la definición de la v.a."
      ],
      "metadata": {
        "id": "Z_ToHxjejhaq"
      }
    },
    {
      "cell_type": "code",
      "source": [
        "from itertools import product #Para el producto cartesiano\n",
        "from fractions import Fraction #para poder usar la función fraccion"
      ],
      "metadata": {
        "id": "Db3-Dqj9tJH1"
      },
      "execution_count": null,
      "outputs": []
    },
    {
      "cell_type": "code",
      "source": [
        "#Da la diferencia de cada uno de los pares ordenados son suma par\n",
        "S_par={(i,j):i+j for i,j in Omega if (i+j)%2==0}\n",
        "S_par"
      ],
      "metadata": {
        "colab": {
          "base_uri": "https://localhost:8080/"
        },
        "id": "jSP_JSe3juMV",
        "outputId": "ae5155c6-4b59-494a-b5df-ef450bb12490"
      },
      "execution_count": null,
      "outputs": [
        {
          "output_type": "execute_result",
          "data": {
            "text/plain": [
              "{(3, 1): 4,\n",
              " (4, 6): 10,\n",
              " (5, 1): 6,\n",
              " (2, 2): 4,\n",
              " (1, 3): 4,\n",
              " (6, 2): 8,\n",
              " (4, 2): 6,\n",
              " (3, 3): 6,\n",
              " (5, 3): 8,\n",
              " (2, 4): 6,\n",
              " (1, 5): 6,\n",
              " (6, 4): 10,\n",
              " (3, 5): 8,\n",
              " (4, 4): 8,\n",
              " (5, 5): 10,\n",
              " (1, 1): 2,\n",
              " (2, 6): 8,\n",
              " (6, 6): 12}"
            ]
          },
          "metadata": {},
          "execution_count": 47
        }
      ]
    },
    {
      "cell_type": "code",
      "source": [
        "#Definir Omega3 como el conjunto de posibles resultados para obtener su cardinalidad y definir la función\n",
        "Omega3=S_par.keys()\n",
        "Omega3"
      ],
      "metadata": {
        "colab": {
          "base_uri": "https://localhost:8080/"
        },
        "id": "NbgF9vROkn6O",
        "outputId": "95524fcf-2c71-400d-b03a-85c859450a04"
      },
      "execution_count": null,
      "outputs": [
        {
          "output_type": "execute_result",
          "data": {
            "text/plain": [
              "dict_keys([(3, 1), (4, 6), (5, 1), (2, 2), (1, 3), (6, 2), (4, 2), (3, 3), (5, 3), (2, 4), (1, 5), (6, 4), (3, 5), (4, 4), (5, 5), (1, 1), (2, 6), (6, 6)])"
            ]
          },
          "metadata": {},
          "execution_count": 48
        }
      ]
    },
    {
      "cell_type": "code",
      "source": [
        "len(Omega3)"
      ],
      "metadata": {
        "colab": {
          "base_uri": "https://localhost:8080/"
        },
        "id": "Qq7Ejy6Klxnt",
        "outputId": "af12153f-e62b-400c-d07a-4df0ec3e67c4"
      },
      "execution_count": null,
      "outputs": [
        {
          "output_type": "execute_result",
          "data": {
            "text/plain": [
              "18"
            ]
          },
          "metadata": {},
          "execution_count": 49
        }
      ]
    },
    {
      "cell_type": "code",
      "source": [
        "#Se define la función que considera al evento A y a Omega3\n",
        "#para poder conocer la probabilidad de ocurrencia\n",
        "def P3(A,Omega3):\n",
        "  P3=Fraction(len(A),len(Omega3))\n",
        "  return P3"
      ],
      "metadata": {
        "id": "lYzpS0c8mJqF"
      },
      "execution_count": null,
      "outputs": []
    },
    {
      "cell_type": "code",
      "source": [
        "#Vamos a crear un diccionario por default de manera sintética y arreglada\n",
        "from collections import defaultdict\n",
        "dS_par=defaultdict(set) #los parentesis los rellenas con set porque vas a agregar conjuntos\n",
        "dS_par"
      ],
      "metadata": {
        "colab": {
          "base_uri": "https://localhost:8080/"
        },
        "id": "cDAAtcP0mbY8",
        "outputId": "17218077-89a4-4454-91c3-41bbeea3177f"
      },
      "execution_count": null,
      "outputs": [
        {
          "output_type": "execute_result",
          "data": {
            "text/plain": [
              "defaultdict(set, {})"
            ]
          },
          "metadata": {},
          "execution_count": 51
        }
      ]
    },
    {
      "cell_type": "code",
      "source": [
        "#Si imprimo j, me da los resultados de las sumas de los pares del diccionario\n",
        "#Si imprimo i, me da los elementos de la izquierda (llaves)\n",
        "for i,j in S_par.items():\n",
        "  dS_par[j].add(i) #Para cada j, añades al diccionario la llave i\n",
        "dS_par"
      ],
      "metadata": {
        "colab": {
          "base_uri": "https://localhost:8080/"
        },
        "id": "PaDmvsrImi4H",
        "outputId": "edd7682d-7a3b-4c17-ecfd-e6ed4663ea13"
      },
      "execution_count": null,
      "outputs": [
        {
          "output_type": "execute_result",
          "data": {
            "text/plain": [
              "defaultdict(set,\n",
              "            {4: {(1, 3), (2, 2), (3, 1)},\n",
              "             10: {(4, 6), (5, 5), (6, 4)},\n",
              "             6: {(1, 5), (2, 4), (3, 3), (4, 2), (5, 1)},\n",
              "             8: {(2, 6), (3, 5), (4, 4), (5, 3), (6, 2)},\n",
              "             2: {(1, 1)},\n",
              "             12: {(6, 6)}})"
            ]
          },
          "metadata": {},
          "execution_count": 52
        }
      ]
    },
    {
      "cell_type": "code",
      "source": [
        "leyS_par={k: P3(A,Omega3) for k,A in dS_par.items()}\n",
        "leyS_par"
      ],
      "metadata": {
        "colab": {
          "base_uri": "https://localhost:8080/"
        },
        "id": "uSgpbzKcm-_S",
        "outputId": "ededa863-0bdf-4c27-c80d-86fba1dff8bd"
      },
      "execution_count": null,
      "outputs": [
        {
          "output_type": "execute_result",
          "data": {
            "text/plain": [
              "{4: Fraction(1, 6),\n",
              " 10: Fraction(1, 6),\n",
              " 6: Fraction(5, 18),\n",
              " 8: Fraction(5, 18),\n",
              " 2: Fraction(1, 18),\n",
              " 12: Fraction(1, 18)}"
            ]
          },
          "metadata": {},
          "execution_count": 55
        }
      ]
    },
    {
      "cell_type": "code",
      "source": [
        "import pandas as pd\n",
        "leyS_par=pd.Series(leyS_par) #Darle forma de matriz al resultado de leyS_d\n",
        "leyS_par=leyS_par.sort_index() #Ordena la columna de las sumas de la menor a mayor\n",
        "leyS_par"
      ],
      "metadata": {
        "colab": {
          "base_uri": "https://localhost:8080/",
          "height": 272
        },
        "id": "1QI77j1RnX00",
        "outputId": "c681dd25-9cf8-4a96-c158-4425e9a6b926"
      },
      "execution_count": null,
      "outputs": [
        {
          "output_type": "execute_result",
          "data": {
            "text/plain": [
              "2     1/18\n",
              "4      1/6\n",
              "6     5/18\n",
              "8     5/18\n",
              "10     1/6\n",
              "12    1/18\n",
              "dtype: object"
            ],
            "text/html": [
              "<div>\n",
              "<style scoped>\n",
              "    .dataframe tbody tr th:only-of-type {\n",
              "        vertical-align: middle;\n",
              "    }\n",
              "\n",
              "    .dataframe tbody tr th {\n",
              "        vertical-align: top;\n",
              "    }\n",
              "\n",
              "    .dataframe thead th {\n",
              "        text-align: right;\n",
              "    }\n",
              "</style>\n",
              "<table border=\"1\" class=\"dataframe\">\n",
              "  <thead>\n",
              "    <tr style=\"text-align: right;\">\n",
              "      <th></th>\n",
              "      <th>0</th>\n",
              "    </tr>\n",
              "  </thead>\n",
              "  <tbody>\n",
              "    <tr>\n",
              "      <th>2</th>\n",
              "      <td>1/18</td>\n",
              "    </tr>\n",
              "    <tr>\n",
              "      <th>4</th>\n",
              "      <td>1/6</td>\n",
              "    </tr>\n",
              "    <tr>\n",
              "      <th>6</th>\n",
              "      <td>5/18</td>\n",
              "    </tr>\n",
              "    <tr>\n",
              "      <th>8</th>\n",
              "      <td>5/18</td>\n",
              "    </tr>\n",
              "    <tr>\n",
              "      <th>10</th>\n",
              "      <td>1/6</td>\n",
              "    </tr>\n",
              "    <tr>\n",
              "      <th>12</th>\n",
              "      <td>1/18</td>\n",
              "    </tr>\n",
              "  </tbody>\n",
              "</table>\n",
              "</div><br><label><b>dtype:</b> object</label>"
            ]
          },
          "metadata": {},
          "execution_count": 56
        }
      ]
    },
    {
      "cell_type": "markdown",
      "source": [
        "- Por lo tanto la  para la variable aleatoria $\n",
        "S_{par} =\n",
        "\\begin{cases}\n",
        "(i,j)\\in \\Omega \\mid&\\text{i+j=k es par }\\}\n",
        "\\end{cases}\n",
        "$\n",
        "\n",
        "> $$\n",
        "f(x) =\n",
        "\\begin{cases}\n",
        "\\frac{1}{18} & \\text{, si } x \\in \\{2,12\\}\\\\\n",
        "\\frac{3}{18} & \\text{, si } x \\in \\{4,10\\}\\\\\n",
        "\\frac{5}{18} & \\text{, si } x \\in \\{6,8\\} \\\\\n",
        "0 & \\text{ , e.o.c}\n",
        "\\end{cases}\n",
        "$$\n",
        "\n",
        "- Verificar que\n",
        "$$\\sum_{k\\in R_{X}}\\mathbb{P}(X=k)=1$$\n",
        "\n",
        "$$\\mathbb{P}(X=2)+\\mathbb{P}(X=4)+\\mathbb{P}(X=6)+\\mathbb{P}(X=8)+\\mathbb{P}(X=10)+\\mathbb{P}(X=12)=1$$\n",
        "\n",
        "\n",
        "$$\\frac{1}{18}+\\frac{3}{18}+\\frac{5}{18}+\\frac{5}{18}+\\frac{3}{18}+\\frac{1}{18}= 1$$"
      ],
      "metadata": {
        "id": "5bDZNr7PpDcd"
      }
    },
    {
      "cell_type": "code",
      "source": [
        "#Comprobar que la función de densidad es igual a 1\n",
        "Fx_par=Fraction(1,18)+Fraction(3,18)+Fraction(5,18)+Fraction(5,18)+Fraction(3,18)+Fraction(1,18)\n",
        "Fx_par"
      ],
      "metadata": {
        "colab": {
          "base_uri": "https://localhost:8080/"
        },
        "id": "zgA-WTCuqkQ3",
        "outputId": "60824748-109d-46c6-ec37-883716697b7a"
      },
      "execution_count": 5,
      "outputs": [
        {
          "output_type": "execute_result",
          "data": {
            "text/plain": [
              "Fraction(1, 1)"
            ]
          },
          "metadata": {},
          "execution_count": 5
        }
      ]
    },
    {
      "cell_type": "markdown",
      "source": [
        "# Graficar la distribución de la v.a. S\n",
        "Dibuja a la función de distribución acumulada de la variable aleatoria:\n",
        "$$S:\\{1,2,3,4,5,6\\}^{2}\\to \\{2, 3, 4, 5, 6, 7, 8, 9, 10, 11, 12 \\}$$\n",
        "dada por\n",
        "$$S= \\{(i,j)\\in \\Omega \\mid i+j=k \\}$$\n",
        "\n",
        "##Función de densidad\n",
        "\n",
        "> $$\n",
        "f(x) =\n",
        "\\begin{cases}\n",
        "\\frac{1}{36} & \\text{, si } x=2\\\\\n",
        "\\frac{2}{36} & \\text{, si } x=3\\\\\n",
        "\\frac{3}{36} & \\text{, si } x=4\\\\\n",
        "\\frac{4}{36} & \\text{, si } x=5\\\\\n",
        "\\frac{5}{36} & \\text{, si } x=6\\\\\n",
        "\\frac{6}{36} & \\text{, si } x=7\\\\\n",
        "\\frac{5}{36} & \\text{, si } x=8\\\\\n",
        "\\frac{4}{36} & \\text{, si } x=9\\\\\n",
        "\\frac{3}{36} & \\text{, si } x=10\\\\\n",
        "\\frac{2}{36} & \\text{, si } x=11\\\\\n",
        "\\frac{1}{36} & \\text{, si } x=12\\\\\n",
        "0 & \\text{ , e.o.c}\n",
        "\\end{cases}\n",
        "$$\n",
        "\n",
        "##Función de distribución acumulada\n",
        "> $$\n",
        "F(x) =\n",
        "\\begin{cases}\n",
        "0 & \\text{, si } x< 2\\\\\n",
        "\\frac{1}{36} & \\text{, si } x\\leq 2\\\\\n",
        "\\frac{3}{36} & \\text{, si } 2<x\\leq 3\\\\\n",
        "\\frac{6}{36} & \\text{, si } 3<x\\leq 4\\\\\n",
        "\\frac{10}{36} & \\text{, si } 4<x \\leq 5\\\\\n",
        "\\frac{15}{36} & \\text{, si } 5<x \\leq 6\\\\\n",
        "\\frac{21}{36} & \\text{, si } 6<x \\leq 7\\\\\n",
        "\\frac{26}{36} & \\text{, si } 7<x \\leq 8\\\\\n",
        "\\frac{30}{36} & \\text{, si } 8<x \\leq 9\\\\\n",
        "\\frac{33}{36} & \\text{, si } 9<x \\leq 10\\\\\n",
        "\\frac{35}{36} & \\text{, si } 10<x \\leq 11\\\\\n",
        "1 & \\text{, si } x \\geq 12\\\\\n",
        "\\end{cases}\n",
        "$$\n",
        "\n",
        "\n",
        "\n"
      ],
      "metadata": {
        "id": "lzTa9qnguVGK"
      }
    },
    {
      "cell_type": "code",
      "source": [
        "import matplotlib.pyplot as plt\n",
        "\n",
        "# Valores posibles de la suma de las caras de dos dados\n",
        "sumas = [2, 3, 4, 5, 6, 7, 8, 9, 10, 11, 12]\n",
        "\n",
        "# Probabilidades asociadas a cada suma\n",
        "prob = [ 1/36, 2/36, 3/36, 4/36, 5/36, 6/36, 5/36, 4/36, 3/36, 2/36, 1/36]\n",
        "\n",
        "# Crear la gráfica\n",
        "plt.bar(sumas, prob, color='lightgray')\n",
        "\n",
        "# Etiquetas de la gráfica\n",
        "plt.title('Función de densidad de la suma de dos dados')\n",
        "plt.xlabel('Suma de las caras')\n",
        "plt.ylabel('Probabilidad')\n",
        "\n",
        "# Mostrar la gráfica\n",
        "plt.show()"
      ],
      "metadata": {
        "colab": {
          "base_uri": "https://localhost:8080/",
          "height": 472
        },
        "id": "P_eRnAuTxXxe",
        "outputId": "f157128e-b7eb-4f5d-ceb9-957f7eb256f3"
      },
      "execution_count": null,
      "outputs": [
        {
          "output_type": "display_data",
          "data": {
            "text/plain": [
              "<Figure size 640x480 with 1 Axes>"
            ],
            "image/png": "[encoded data removed]"
          },
          "metadata": {}
        }
      ]
    },
    {
      "cell_type": "code",
      "source": [
        "import numpy as np\n",
        "import matplotlib.pyplot as plt\n",
        "\n",
        "# Definir los puntos clave de la CDF basados en la imagen\n",
        "x_valores = [2, 3, 4, 5, 6, 7, 8, 9, 10, 11, 12]\n",
        "cdf_valores = [1/36, 3/36, 6/36, 10/36, 15/36, 21/36, 26/36, 30/36, 33/36, 35/36, 1]\n",
        "\n",
        "# Crear la gráfica\n",
        "plt.bar(x_valores, cdf_valores, color='lightblue')\n",
        "\n",
        "# Etiquetas de la gráfica\n",
        "plt.title('Función de distribución acumulada (CFD)')\n",
        "plt.xlabel('Suma de las caras')\n",
        "plt.ylabel('Probabilidad acumulada')\n",
        "\n",
        "# Mostrar la gráfica\n",
        "plt.show()"
      ],
      "metadata": {
        "colab": {
          "base_uri": "https://localhost:8080/",
          "height": 472
        },
        "id": "7Y9NhG1M3xYY",
        "outputId": "88dc800e-353e-4fa7-c2d3-9339008053dd"
      },
      "execution_count": null,
      "outputs": [
        {
          "output_type": "display_data",
          "data": {
            "text/plain": [
              "<Figure size 640x480 with 1 Axes>"
            ],
            "image/png": "[encoded data removed]"
          },
          "metadata": {}
        }
      ]
    }
  ]
}