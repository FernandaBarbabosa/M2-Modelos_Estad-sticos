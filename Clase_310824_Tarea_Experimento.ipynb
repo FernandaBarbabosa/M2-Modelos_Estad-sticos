{
  "nbformat": 4,
  "nbformat_minor": 0,
  "metadata": {
    "colab": {
      "provenance": [],
      "authorship_tag": "ABX9TyOHBPQlFQN1MX1JuoGTAGJY",
      "include_colab_link": true
    },
    "kernelspec": {
      "name": "python3",
      "display_name": "Python 3"
    },
    "language_info": {
      "name": "python"
    }
  },
  "cells": [
    {
      "cell_type": "markdown",
      "metadata": {
        "id": "view-in-github",
        "colab_type": "text"
      },
      "source": [
        "<a href=\"https://colab.research.google.com/github/FernandaBarbabosa/M2-Modelos_Estad-sticos/blob/main/Clase_310824_Tarea_Experimento.ipynb\" target=\"_parent\"><img src=\"https://colab.research.google.com/assets/colab-badge.svg\" alt=\"Open In Colab\"/></a>"
      ]
    },
    {
      "cell_type": "markdown",
      "source": [
        "#Algunos conceptos de Python\n",
        "\n",
        "- Es un lenguaje orientado a objetos\n",
        "\n",
        "- Objetos: enteros (int), decimales (float), str, listas (list), vectores (array), conjuntos (set), diccionarios, DataFrames, etc.\n"
      ],
      "metadata": {
        "id": "-YrCpXZf9jAs"
      }
    },
    {
      "cell_type": "code",
      "execution_count": 1,
      "metadata": {
        "colab": {
          "base_uri": "https://localhost:8080/"
        },
        "id": "_czonOEC9ceH",
        "outputId": "4401c6b2-9261-4c61-bb35-aa9a50a111a9"
      },
      "outputs": [
        {
          "output_type": "stream",
          "name": "stdout",
          "text": [
            "Hola Mundo\n"
          ]
        }
      ],
      "source": [
        "#Este es un comentario, con el play ejecutas el código\n",
        "print(\"Hola Mundo\")"
      ]
    },
    {
      "cell_type": "code",
      "source": [
        "# Si no usas un print y tienes varias operaciones solo te arrojará la última\n",
        "# operación\n",
        "print(4+5) #suma\n",
        "print(4/5) #división\n",
        "print(4*5) #multiplicación\n",
        "print(4**5) #potencia\n",
        "print(4//5) #division al piso, redondea hacia abajo el resultado"
      ],
      "metadata": {
        "colab": {
          "base_uri": "https://localhost:8080/"
        },
        "id": "BfTD1wl2-edi",
        "outputId": "cefff28c-bf47-4999-b346-fcef22be2961"
      },
      "execution_count": 15,
      "outputs": [
        {
          "output_type": "stream",
          "name": "stdout",
          "text": [
            "9\n",
            "0.8\n",
            "20\n",
            "1024\n",
            "0\n"
          ]
        }
      ]
    },
    {
      "cell_type": "markdown",
      "source": [
        "Si $x\\in\\mathbb{R}$, la función piso, se define como:\n",
        "\n",
        "$$\\lfloor x \\rfloor=\\max\\{m\\in\\mathbb{Z} \\mid m\\leq x\\}$$"
      ],
      "metadata": {
        "id": "rHEMKFpl_5r3"
      }
    },
    {
      "cell_type": "markdown",
      "source": [
        "Operación modular: sea $a$ y $b$ números reales\n",
        "\n",
        "El residuo de dividir $a$ y $b$ se llama operación modular, en Python se escribe a%b"
      ],
      "metadata": {
        "id": "PhAKvJFgCzV5"
      }
    },
    {
      "cell_type": "code",
      "source": [
        "5%2"
      ],
      "metadata": {
        "colab": {
          "base_uri": "https://localhost:8080/"
        },
        "id": "X7l22Q3bDQ7N",
        "outputId": "a26b158b-dd63-4966-92a3-43ba015a91a3"
      },
      "execution_count": 3,
      "outputs": [
        {
          "output_type": "execute_result",
          "data": {
            "text/plain": [
              "1"
            ]
          },
          "metadata": {},
          "execution_count": 3
        }
      ]
    },
    {
      "cell_type": "markdown",
      "source": [
        "Los objetos tienen atributos (miembros):\n",
        "- Datos: información útil para el objeto\n",
        "- Métodos (funciones): operaciones sobre el propio objeto.\n",
        "\n",
        "Los atributos son accesibles con la notación `objeto.atributo`\n",
        "Existen dos modos en que un objeto es usado en una función:\n"
      ],
      "metadata": {
        "id": "Wfu4wktADTcM"
      }
    },
    {
      "cell_type": "code",
      "source": [
        "#Pensaándolo como un argumento explícito\n",
        "a=-3\n",
        "abs(a)"
      ],
      "metadata": {
        "colab": {
          "base_uri": "https://localhost:8080/"
        },
        "id": "XfsueDOeEZJ0",
        "outputId": "f383e48d-e699-4d53-f61e-0a453e2b6608"
      },
      "execution_count": 4,
      "outputs": [
        {
          "output_type": "execute_result",
          "data": {
            "text/plain": [
              "3"
            ]
          },
          "metadata": {},
          "execution_count": 4
        }
      ]
    },
    {
      "cell_type": "code",
      "source": [
        "#Llamandolo a uno de sus métodos\n",
        "a='hola'\n",
        "a.upper()"
      ],
      "metadata": {
        "colab": {
          "base_uri": "https://localhost:8080/",
          "height": 35
        },
        "id": "D_ZQpKNEEoCY",
        "outputId": "e1e7cb37-5a61-4d1f-e35f-996fdcbae6a5"
      },
      "execution_count": 5,
      "outputs": [
        {
          "output_type": "execute_result",
          "data": {
            "text/plain": [
              "'HOLA'"
            ],
            "application/vnd.google.colaboratory.intrinsic+json": {
              "type": "string"
            }
          },
          "metadata": {},
          "execution_count": 5
        }
      ]
    },
    {
      "cell_type": "markdown",
      "source": [
        "Otro ejemplo de objeto: $1+3i\\in\\mathbb{C}$, es decir es un número complejo"
      ],
      "metadata": {
        "id": "eHR2aTqTGEwp"
      }
    },
    {
      "cell_type": "code",
      "source": [
        "a=1+3j #la parte imaginaria en Python se asigna con j\n",
        "im =a.imag #atributo dato (parte imaginaria), es información del mismo objeto\n",
        "re= a.real\n",
        "conj= a.conjugate () #atributo método, le cambia el signo a la parte imaginaria, es una función\n",
        "print('La parte real es',re)\n",
        "print(im)\n",
        "print(conj)"
      ],
      "metadata": {
        "colab": {
          "base_uri": "https://localhost:8080/"
        },
        "id": "xs4AukXyGiD-",
        "outputId": "03fa13d8-be9d-4c5f-da63-b336d109518a"
      },
      "execution_count": 11,
      "outputs": [
        {
          "output_type": "stream",
          "name": "stdout",
          "text": [
            "La parte real es 1.0\n",
            "3.0\n",
            "(1-3j)\n"
          ]
        }
      ]
    },
    {
      "cell_type": "markdown",
      "source": [
        "#Tipos y variables\n",
        "\n",
        "Todo objeto de datos tiene un tipo asociado."
      ],
      "metadata": {
        "id": "3uCDLoCURf0g"
      }
    },
    {
      "cell_type": "code",
      "source": [
        "type(3.5) #Me esta diciendo que tipo de dato tengo"
      ],
      "metadata": {
        "colab": {
          "base_uri": "https://localhost:8080/"
        },
        "id": "mdoCGk_-RrT7",
        "outputId": "f80ee05d-2c9d-49c3-f0b0-0e1d3374e3aa"
      },
      "execution_count": 20,
      "outputs": [
        {
          "output_type": "execute_result",
          "data": {
            "text/plain": [
              "float"
            ]
          },
          "metadata": {},
          "execution_count": 20
        }
      ]
    },
    {
      "cell_type": "code",
      "source": [
        "type('3')"
      ],
      "metadata": {
        "colab": {
          "base_uri": "https://localhost:8080/"
        },
        "id": "i10OHx6DR0Bn",
        "outputId": "e829a710-888c-46b3-982a-335f5ef97d1e"
      },
      "execution_count": 17,
      "outputs": [
        {
          "output_type": "execute_result",
          "data": {
            "text/plain": [
              "str"
            ]
          },
          "metadata": {},
          "execution_count": 17
        }
      ]
    },
    {
      "cell_type": "code",
      "source": [
        "3+'3' #no hay conversión de tipos automáticos, no se pueden mezclar"
      ],
      "metadata": {
        "colab": {
          "base_uri": "https://localhost:8080/",
          "height": 141
        },
        "id": "-tMrFhcDR3-w",
        "outputId": "8344d742-8a1d-468f-8201-a1ee4323ea39"
      },
      "execution_count": 19,
      "outputs": [
        {
          "output_type": "error",
          "ename": "TypeError",
          "evalue": "unsupported operand type(s) for +: 'int' and 'str'",
          "traceback": [
            "\u001b[0;31m---------------------------------------------------------------------------\u001b[0m",
            "\u001b[0;31mTypeError\u001b[0m                                 Traceback (most recent call last)",
            "\u001b[0;32m<ipython-input-19-5e829c909994>\u001b[0m in \u001b[0;36m<cell line: 1>\u001b[0;34m()\u001b[0m\n\u001b[0;32m----> 1\u001b[0;31m \u001b[0;36m3\u001b[0m\u001b[0;34m+\u001b[0m\u001b[0;34m'3'\u001b[0m\u001b[0;34m\u001b[0m\u001b[0;34m\u001b[0m\u001b[0m\n\u001b[0m",
            "\u001b[0;31mTypeError\u001b[0m: unsupported operand type(s) for +: 'int' and 'str'"
          ]
        }
      ]
    },
    {
      "cell_type": "markdown",
      "source": [
        "Los operadores varían en función el tipo de dato sobre el cual actuan"
      ],
      "metadata": {
        "id": "2W_MkpcWS0SI"
      }
    },
    {
      "cell_type": "code",
      "source": [
        "3+int('3')"
      ],
      "metadata": {
        "colab": {
          "base_uri": "https://localhost:8080/"
        },
        "id": "TCVHi7cnS5QX",
        "outputId": "c1679d8e-a165-4c5a-e28a-00e1142489e0"
      },
      "execution_count": 21,
      "outputs": [
        {
          "output_type": "execute_result",
          "data": {
            "text/plain": [
              "6"
            ]
          },
          "metadata": {},
          "execution_count": 21
        }
      ]
    },
    {
      "cell_type": "code",
      "source": [
        "str(3)+'3' #Concatena el string"
      ],
      "metadata": {
        "colab": {
          "base_uri": "https://localhost:8080/",
          "height": 35
        },
        "id": "oL3DQCMWS-rK",
        "outputId": "ad8d6557-f370-4ef9-e2bf-056bec68d863"
      },
      "execution_count": 22,
      "outputs": [
        {
          "output_type": "execute_result",
          "data": {
            "text/plain": [
              "'33'"
            ],
            "application/vnd.google.colaboratory.intrinsic+json": {
              "type": "string"
            }
          },
          "metadata": {},
          "execution_count": 22
        }
      ]
    },
    {
      "cell_type": "markdown",
      "source": [
        "##Listas\n",
        "\n",
        "Una lista es una manera de organizar objetos"
      ],
      "metadata": {
        "id": "X5sNkbKWTFDF"
      }
    },
    {
      "cell_type": "code",
      "source": [
        "#Variable, puedes usar guion bajo para odiferenciar, el punto NO\n",
        "#En una lista [] si pones algo entre corchetes {} es un conjunto\n",
        "lista_1=[1,3.5,'hola',False,{'A','S'}]\n",
        "lista_1"
      ],
      "metadata": {
        "colab": {
          "base_uri": "https://localhost:8080/"
        },
        "id": "aM3x3hPnTO8Q",
        "outputId": "1d02fa1c-e8d9-457f-9264-794dcc806962"
      },
      "execution_count": 23,
      "outputs": [
        {
          "output_type": "execute_result",
          "data": {
            "text/plain": [
              "[1, 3.5, 'hola', False, {'A', 'S'}]"
            ]
          },
          "metadata": {},
          "execution_count": 23
        }
      ]
    },
    {
      "cell_type": "code",
      "source": [
        "type(lista_1) #nos indica el tipo de objeto qoue se tiene"
      ],
      "metadata": {
        "colab": {
          "base_uri": "https://localhost:8080/"
        },
        "id": "GAeEJ8pqTzgr",
        "outputId": "d5513cfe-7103-461b-f242-8eb34a5a2b2c"
      },
      "execution_count": 24,
      "outputs": [
        {
          "output_type": "execute_result",
          "data": {
            "text/plain": [
              "list"
            ]
          },
          "metadata": {},
          "execution_count": 24
        }
      ]
    },
    {
      "cell_type": "markdown",
      "source": [
        "Si tengo uan lista\n",
        "$$L_{1}=[e_{1},e_{2},\\dots,e_{n}]$$\n",
        "si quiero ingresar al elemento $e_{i}$\n",
        "$$L[i-1]$$"
      ],
      "metadata": {
        "id": "hsYLsLqBUDiz"
      }
    },
    {
      "cell_type": "code",
      "source": [
        "lista_1[2] #Python inicia con la posición 0, i.e\n",
        "# posición 0=1, posición 1= 3.5"
      ],
      "metadata": {
        "colab": {
          "base_uri": "https://localhost:8080/",
          "height": 35
        },
        "id": "xTYfIu3TUqHt",
        "outputId": "6d2e5342-7e55-4c55-e48e-66889657bc30"
      },
      "execution_count": 25,
      "outputs": [
        {
          "output_type": "execute_result",
          "data": {
            "text/plain": [
              "'hola'"
            ],
            "application/vnd.google.colaboratory.intrinsic+json": {
              "type": "string"
            }
          },
          "metadata": {},
          "execution_count": 25
        }
      ]
    },
    {
      "cell_type": "code",
      "source": [
        "lista_1[4]\n",
        "type(lista_1[4])"
      ],
      "metadata": {
        "colab": {
          "base_uri": "https://localhost:8080/"
        },
        "id": "TkPq5XtKU8v4",
        "outputId": "61ab8cdb-5771-4629-e223-3e954c05692d"
      },
      "execution_count": 26,
      "outputs": [
        {
          "output_type": "execute_result",
          "data": {
            "text/plain": [
              "set"
            ]
          },
          "metadata": {},
          "execution_count": 26
        }
      ]
    },
    {
      "cell_type": "code",
      "source": [
        "lista_1[5]"
      ],
      "metadata": {
        "colab": {
          "base_uri": "https://localhost:8080/",
          "height": 141
        },
        "id": "KhHf7ksjVCrx",
        "outputId": "ece82762-a829-44b3-ea20-19facc1b5fc9"
      },
      "execution_count": 27,
      "outputs": [
        {
          "output_type": "error",
          "ename": "IndexError",
          "evalue": "list index out of range",
          "traceback": [
            "\u001b[0;31m---------------------------------------------------------------------------\u001b[0m",
            "\u001b[0;31mIndexError\u001b[0m                                Traceback (most recent call last)",
            "\u001b[0;32m<ipython-input-27-f2e8ba98b710>\u001b[0m in \u001b[0;36m<cell line: 1>\u001b[0;34m()\u001b[0m\n\u001b[0;32m----> 1\u001b[0;31m \u001b[0mlista_1\u001b[0m\u001b[0;34m[\u001b[0m\u001b[0;36m5\u001b[0m\u001b[0;34m]\u001b[0m\u001b[0;34m\u001b[0m\u001b[0;34m\u001b[0m\u001b[0m\n\u001b[0m",
            "\u001b[0;31mIndexError\u001b[0m: list index out of range"
          ]
        }
      ]
    },
    {
      "cell_type": "markdown",
      "source": [
        "## Generador de índices (etiquetas en Python), este se llama `range(n)`\n",
        "\n"
      ],
      "metadata": {
        "id": "T3kmbQt7VGY4"
      }
    },
    {
      "cell_type": "code",
      "source": [
        "range(10)"
      ],
      "metadata": {
        "colab": {
          "base_uri": "https://localhost:8080/"
        },
        "id": "he2kn3qhVu_c",
        "outputId": "4dd2207f-9e98-41aa-b7e1-627e9f158b27"
      },
      "execution_count": 28,
      "outputs": [
        {
          "output_type": "execute_result",
          "data": {
            "text/plain": [
              "range(0, 10)"
            ]
          },
          "metadata": {},
          "execution_count": 28
        }
      ]
    },
    {
      "cell_type": "code",
      "source": [
        "for i in range(10):\n",
        "  print(i)"
      ],
      "metadata": {
        "colab": {
          "base_uri": "https://localhost:8080/"
        },
        "id": "OZ_LoGk1VxOj",
        "outputId": "22bf37be-99a2-4b61-aa5b-aa816133b5e0"
      },
      "execution_count": 29,
      "outputs": [
        {
          "output_type": "stream",
          "name": "stdout",
          "text": [
            "0\n",
            "1\n",
            "2\n",
            "3\n",
            "4\n",
            "5\n",
            "6\n",
            "7\n",
            "8\n",
            "9\n"
          ]
        }
      ]
    },
    {
      "cell_type": "code",
      "source": [
        "lista_2=[i for i in range(1,6)]\n",
        "lista_2"
      ],
      "metadata": {
        "colab": {
          "base_uri": "https://localhost:8080/"
        },
        "id": "XyP47BaWV4Mh",
        "outputId": "f05014ab-5b07-4a50-f436-77e14159fe24"
      },
      "execution_count": 31,
      "outputs": [
        {
          "output_type": "execute_result",
          "data": {
            "text/plain": [
              "[10, 11, 12, 13, 14, 15]"
            ]
          },
          "metadata": {},
          "execution_count": 31
        }
      ]
    },
    {
      "cell_type": "markdown",
      "source": [
        "## Modelo de probabiliadad Laplaciano (clásico)\n",
        "**Ejemplo:** Se lanza una moneda 3 veces, de manera independiente (es decir, el lanzamiento $i$-ésimo no afecta al siguiente $i+1$).\n",
        "Tenemos que el espacio muestral de este experimento es:\n",
        "$$\\Omega =\\{A,S\\}\\times\\{A,S\\}\\times\\{A,S\\}$$\n",
        "donde\n",
        "$$\\#\\Omega=2^{3}=8$$\n",
        "\n",
        "Sea $E$ un evento, entonces la probabilidad de $E$ se calcula como sigue $$\\mathbb{P}(E) = \\frac{\\#E}{\\#\\Omega}$$\n"
      ],
      "metadata": {
        "id": "D1OvfuYLW5hb"
      }
    },
    {
      "cell_type": "code",
      "source": [
        "#Para crear a Omega (el espacio muetsral), necesitamos una libreria\n",
        "import itertools # importamos el módulo\n",
        "from itertools import product\n",
        "\n",
        "Omega=set(product({'A','S'},repeat=3)) #Producto cartesiano 3 veces de ese conjunto\n",
        "Omega #Te dice que está haciendo el producto, pero te interesa tenerlo como\n",
        "# lista o conjunto para eso le agregas set antes del product"
      ],
      "metadata": {
        "colab": {
          "base_uri": "https://localhost:8080/"
        },
        "id": "T8OCqfLGaDAD",
        "outputId": "cd00cde3-79a7-468a-c509-579dddd9ee52"
      },
      "execution_count": 39,
      "outputs": [
        {
          "output_type": "execute_result",
          "data": {
            "text/plain": [
              "{('A', 'A', 'A'),\n",
              " ('A', 'A', 'S'),\n",
              " ('A', 'S', 'A'),\n",
              " ('A', 'S', 'S'),\n",
              " ('S', 'A', 'A'),\n",
              " ('S', 'A', 'S'),\n",
              " ('S', 'S', 'A'),\n",
              " ('S', 'S', 'S')}"
            ]
          },
          "metadata": {},
          "execution_count": 39
        }
      ]
    },
    {
      "cell_type": "markdown",
      "source": [
        "Para conocer la cantidad de elementos de un conjunto usamos la función `len()`"
      ],
      "metadata": {
        "id": "WR5QCMlm2nw3"
      }
    },
    {
      "cell_type": "code",
      "source": [
        "len(Omega) #Para saber cuantos elementos hay en el objeto (Omega)"
      ],
      "metadata": {
        "colab": {
          "base_uri": "https://localhost:8080/"
        },
        "id": "G5vo_xZhbCrz",
        "outputId": "9c82ad80-9f22-4dc9-ba3f-f7c245113f25"
      },
      "execution_count": 40,
      "outputs": [
        {
          "output_type": "execute_result",
          "data": {
            "text/plain": [
              "8"
            ]
          },
          "metadata": {},
          "execution_count": 40
        }
      ]
    },
    {
      "cell_type": "code",
      "source": [
        "Omega[1]"
      ],
      "metadata": {
        "colab": {
          "base_uri": "https://localhost:8080/",
          "height": 141
        },
        "id": "hQ5WKFDQbmcp",
        "outputId": "39745ff0-4535-4d38-b308-ff2d4f2611cb"
      },
      "execution_count": 41,
      "outputs": [
        {
          "output_type": "error",
          "ename": "TypeError",
          "evalue": "'set' object is not subscriptable",
          "traceback": [
            "\u001b[0;31m---------------------------------------------------------------------------\u001b[0m",
            "\u001b[0;31mTypeError\u001b[0m                                 Traceback (most recent call last)",
            "\u001b[0;32m<ipython-input-41-4c4a1a094224>\u001b[0m in \u001b[0;36m<cell line: 1>\u001b[0;34m()\u001b[0m\n\u001b[0;32m----> 1\u001b[0;31m \u001b[0mOmega\u001b[0m\u001b[0;34m[\u001b[0m\u001b[0;36m1\u001b[0m\u001b[0;34m]\u001b[0m\u001b[0;34m\u001b[0m\u001b[0;34m\u001b[0m\u001b[0m\n\u001b[0m",
            "\u001b[0;31mTypeError\u001b[0m: 'set' object is not subscriptable"
          ]
        }
      ]
    },
    {
      "cell_type": "code",
      "source": [
        "T=('A','A','A') #tupla\n",
        "T[0]"
      ],
      "metadata": {
        "colab": {
          "base_uri": "https://localhost:8080/",
          "height": 35
        },
        "id": "why-e3sRb0TE",
        "outputId": "3dd220f5-25ab-4166-b54d-f53527777df5"
      },
      "execution_count": 42,
      "outputs": [
        {
          "output_type": "execute_result",
          "data": {
            "text/plain": [
              "'A'"
            ],
            "application/vnd.google.colaboratory.intrinsic+json": {
              "type": "string"
            }
          },
          "metadata": {},
          "execution_count": 42
        }
      ]
    },
    {
      "cell_type": "markdown",
      "source": [
        "Consideremos los siguientes eventos:\n",
        "1. $A$: todos los resultados son águila\n",
        "2. $S$: todos los resultados son sol\n",
        "3. $E$: por lo menos hay un resultado es sol"
      ],
      "metadata": {
        "id": "WzO_FwjGce00"
      }
    },
    {
      "cell_type": "markdown",
      "source": [
        "Sea el evento $A_{i}$ donde cae águila en el $i$-ésimo resultado. Así tenemos\n",
        "$$A=A_{1}\\cap A_{3}\\cap A_{3} $$"
      ],
      "metadata": {
        "id": "FRp6S9EKdm_Q"
      }
    },
    {
      "cell_type": "markdown",
      "source": [
        "Vamos a crear a nuestro primer evento $A_{1}$, es decir donde en la primera coordenada es águila:"
      ],
      "metadata": {
        "id": "9H0GAEZjemzQ"
      }
    },
    {
      "cell_type": "code",
      "source": [
        "A_1={om for om in Omega if om[0]=='A'} #La primer coordenada,\n",
        "#considela que la om son las tuplas del conjunto Omega, por\n",
        "#ello estas pidiendo donde solo la primera coordenada sea AGUILA\n",
        "A_1\n"
      ],
      "metadata": {
        "colab": {
          "base_uri": "https://localhost:8080/"
        },
        "id": "S4uPjKaAe2_5",
        "outputId": "d8662815-1e13-4006-cf5e-b9409085b95b"
      },
      "execution_count": 44,
      "outputs": [
        {
          "output_type": "execute_result",
          "data": {
            "text/plain": [
              "{('A', 'A', 'A'), ('A', 'A', 'S'), ('A', 'S', 'A'), ('A', 'S', 'S')}"
            ]
          },
          "metadata": {},
          "execution_count": 44
        }
      ]
    },
    {
      "cell_type": "code",
      "source": [
        "A_2={om for om in Omega if om[1]=='A'} #La segunda coordenada,\n",
        "#considela que la om son las tuplas del conjunto Omega, por\n",
        "#ello estas pidiendo donde solo la segunda coordenada sea AGUILA\n",
        "A_2"
      ],
      "metadata": {
        "colab": {
          "base_uri": "https://localhost:8080/"
        },
        "id": "pey9YBQ4gy8F",
        "outputId": "b682d93a-55c7-4d71-d647-94c5ebe6bfbb"
      },
      "execution_count": 45,
      "outputs": [
        {
          "output_type": "execute_result",
          "data": {
            "text/plain": [
              "{('A', 'A', 'A'), ('A', 'A', 'S'), ('S', 'A', 'A'), ('S', 'A', 'S')}"
            ]
          },
          "metadata": {},
          "execution_count": 45
        }
      ]
    },
    {
      "cell_type": "code",
      "source": [
        "A_3={om for om in Omega if om[2]=='A'} #La tercera coordenada,\n",
        "#considela que la om son las tuplas del conjunto Omega, por\n",
        "#ello estas pidiendo donde solo la tercera coordenada sea AGUILA\n",
        "A_3"
      ],
      "metadata": {
        "colab": {
          "base_uri": "https://localhost:8080/"
        },
        "id": "h8mtKo5miQWe",
        "outputId": "d6337a8f-f4f3-4525-ad55-b7d09c4451ac"
      },
      "execution_count": 48,
      "outputs": [
        {
          "output_type": "execute_result",
          "data": {
            "text/plain": [
              "{('A', 'A', 'A'), ('A', 'S', 'A'), ('S', 'A', 'A'), ('S', 'S', 'A')}"
            ]
          },
          "metadata": {},
          "execution_count": 48
        }
      ]
    },
    {
      "cell_type": "markdown",
      "source": [
        "Para intersectar los conjuntos usamos la función `intersection()`"
      ],
      "metadata": {
        "id": "uXqQWO_BiZX0"
      }
    },
    {
      "cell_type": "code",
      "source": [
        "A= A_1.intersection(A_2.intersection(A_3))\n",
        "A"
      ],
      "metadata": {
        "colab": {
          "base_uri": "https://localhost:8080/"
        },
        "id": "DyRXDWSGirRf",
        "outputId": "34c1d13a-4420-478c-ae34-24cdbafd8988"
      },
      "execution_count": 50,
      "outputs": [
        {
          "output_type": "execute_result",
          "data": {
            "text/plain": [
              "{('A', 'A', 'A')}"
            ]
          },
          "metadata": {},
          "execution_count": 50
        }
      ]
    },
    {
      "cell_type": "markdown",
      "source": [
        "Vamos a calcular la probabilidad del evento A"
      ],
      "metadata": {
        "id": "O3dwrtCTjlq_"
      }
    },
    {
      "cell_type": "code",
      "source": [
        "#P_A denota a la probabilidad (P) del evento A\n",
        "P_A=len(A)/len(Omega)\n",
        "P_A"
      ],
      "metadata": {
        "colab": {
          "base_uri": "https://localhost:8080/"
        },
        "id": "WPUyQig9jpib",
        "outputId": "ccc83795-4869-4612-9a26-7af5cafe2c14"
      },
      "execution_count": 51,
      "outputs": [
        {
          "output_type": "execute_result",
          "data": {
            "text/plain": [
              "0.125"
            ]
          },
          "metadata": {},
          "execution_count": 51
        }
      ]
    },
    {
      "cell_type": "markdown",
      "source": [
        "En vez de decimal, podemos tener el número expresado en fracción, lo cual se hace como sigue:\n",
        "Vamos a crear una función que calcule la probabilidad de un evento $E$ dentro de un espacio muestral $\\Omega$:"
      ],
      "metadata": {
        "id": "3K3t7Kk7klgu"
      }
    },
    {
      "cell_type": "code",
      "source": [
        "from fractions import Fraction\n",
        "\n",
        "def p(E,Omega): #E es un evento\n",
        "  p=Fraction(len(E),len(Omega))\n",
        "  return p"
      ],
      "metadata": {
        "id": "FKMEHuNWkv1X"
      },
      "execution_count": 57,
      "outputs": []
    },
    {
      "cell_type": "code",
      "source": [
        "p(A,Omega)"
      ],
      "metadata": {
        "colab": {
          "base_uri": "https://localhost:8080/"
        },
        "id": "rpWEklY_mmeN",
        "outputId": "a01dd48d-9866-418b-db33-060e03a47041"
      },
      "execution_count": 58,
      "outputs": [
        {
          "output_type": "execute_result",
          "data": {
            "text/plain": [
              "Fraction(1, 8)"
            ]
          },
          "metadata": {},
          "execution_count": 58
        }
      ]
    },
    {
      "cell_type": "markdown",
      "source": [
        "Para obtener el evento S: todas los resultados sean soles"
      ],
      "metadata": {
        "id": "cVJyijNXqvhm"
      }
    },
    {
      "cell_type": "code",
      "source": [
        "S_1={om for om in Omega if om[0]=='S'} #La primer coordenada,\n",
        "#considela que la om son las tuplas del conjunto Omega, por\n",
        "#ello estas pidiendo donde solo la primera coordenada sea SOL\n",
        "S_1"
      ],
      "metadata": {
        "colab": {
          "base_uri": "https://localhost:8080/"
        },
        "id": "pghBEx9prVjE",
        "outputId": "122236c0-f097-4852-a8b6-77a6b411a255"
      },
      "execution_count": 59,
      "outputs": [
        {
          "output_type": "execute_result",
          "data": {
            "text/plain": [
              "{('S', 'A', 'A'), ('S', 'A', 'S'), ('S', 'S', 'A'), ('S', 'S', 'S')}"
            ]
          },
          "metadata": {},
          "execution_count": 59
        }
      ]
    },
    {
      "cell_type": "code",
      "source": [
        "S_2={om for om in Omega if om[1]=='S'} #La segunda coordenada,\n",
        "#considela que la om son las tuplas del conjunto Omega, por\n",
        "#ello estas pidiendo donde solo la segunda coordenada sea SOL\n",
        "S_2"
      ],
      "metadata": {
        "colab": {
          "base_uri": "https://localhost:8080/"
        },
        "id": "JHYCwg4krfDh",
        "outputId": "72d30e8b-88a7-479c-eaf1-a8565d5a9177"
      },
      "execution_count": 60,
      "outputs": [
        {
          "output_type": "execute_result",
          "data": {
            "text/plain": [
              "{('A', 'S', 'A'), ('A', 'S', 'S'), ('S', 'S', 'A'), ('S', 'S', 'S')}"
            ]
          },
          "metadata": {},
          "execution_count": 60
        }
      ]
    },
    {
      "cell_type": "code",
      "source": [
        "S_3={om for om in Omega if om[2]=='S'} #La tercera coordenada,\n",
        "#considela que la om son las tuplas del conjunto Omega, por\n",
        "#ello estas pidiendo donde solo la tercera coordenada sea SOL\n",
        "S_3"
      ],
      "metadata": {
        "colab": {
          "base_uri": "https://localhost:8080/"
        },
        "id": "jbhPcGYTriYy",
        "outputId": "57085130-8039-4dd4-db07-8999bad58ca3"
      },
      "execution_count": 61,
      "outputs": [
        {
          "output_type": "execute_result",
          "data": {
            "text/plain": [
              "{('A', 'A', 'S'), ('A', 'S', 'S'), ('S', 'A', 'S'), ('S', 'S', 'S')}"
            ]
          },
          "metadata": {},
          "execution_count": 61
        }
      ]
    },
    {
      "cell_type": "code",
      "source": [
        "S= S_1.intersection(S_2.intersection(S_3))\n",
        "S"
      ],
      "metadata": {
        "colab": {
          "base_uri": "https://localhost:8080/"
        },
        "id": "2hQRFmtlrrEF",
        "outputId": "81854cda-df3f-492a-b033-5ac2d9866898"
      },
      "execution_count": 63,
      "outputs": [
        {
          "output_type": "execute_result",
          "data": {
            "text/plain": [
              "{('S', 'S', 'S')}"
            ]
          },
          "metadata": {},
          "execution_count": 63
        }
      ]
    },
    {
      "cell_type": "code",
      "source": [
        "p(S,Omega)"
      ],
      "metadata": {
        "colab": {
          "base_uri": "https://localhost:8080/"
        },
        "id": "0uMQUg82r70t",
        "outputId": "9597b35d-d4dc-4c8d-b46b-7607e4270d1c"
      },
      "execution_count": 64,
      "outputs": [
        {
          "output_type": "execute_result",
          "data": {
            "text/plain": [
              "Fraction(1, 8)"
            ]
          },
          "metadata": {},
          "execution_count": 64
        }
      ]
    },
    {
      "cell_type": "markdown",
      "source": [
        "Para obtener el conjunto de tuplas que representan al evento  $E$"
      ],
      "metadata": {
        "id": "CXoKLZv5zIg-"
      }
    },
    {
      "cell_type": "code",
      "source": [
        "E_1 = {om for om in Omega if om [0]==\"S\"} #La primer coordenada\n",
        "E_1"
      ],
      "metadata": {
        "colab": {
          "base_uri": "https://localhost:8080/"
        },
        "id": "RfTBQRkG278u",
        "outputId": "da4cf064-3064-4b27-e511-7995033cf6eb"
      },
      "execution_count": 72,
      "outputs": [
        {
          "output_type": "execute_result",
          "data": {
            "text/plain": [
              "{('S', 'A', 'A'), ('S', 'A', 'S'), ('S', 'S', 'A'), ('S', 'S', 'S')}"
            ]
          },
          "metadata": {},
          "execution_count": 72
        }
      ]
    },
    {
      "cell_type": "code",
      "source": [
        "E_2 = {om for om in Omega if om [1]==\"S\"} #La segunda coordenada\n",
        "E_2"
      ],
      "metadata": {
        "colab": {
          "base_uri": "https://localhost:8080/"
        },
        "id": "TANBfFJu2-e1",
        "outputId": "6df4202d-dbde-46de-9cf9-588575bccdce"
      },
      "execution_count": 73,
      "outputs": [
        {
          "output_type": "execute_result",
          "data": {
            "text/plain": [
              "{('A', 'S', 'A'), ('A', 'S', 'S'), ('S', 'S', 'A'), ('S', 'S', 'S')}"
            ]
          },
          "metadata": {},
          "execution_count": 73
        }
      ]
    },
    {
      "cell_type": "code",
      "source": [
        "E_3 = {om for om in Omega if om [2]==\"S\"} #La tercera coordenada\n",
        "E_3\n"
      ],
      "metadata": {
        "colab": {
          "base_uri": "https://localhost:8080/"
        },
        "id": "mZ7UhPYpzQG8",
        "outputId": "d0357c38-79ee-4c23-9c27-f8876ae6285d"
      },
      "execution_count": 74,
      "outputs": [
        {
          "output_type": "execute_result",
          "data": {
            "text/plain": [
              "{('A', 'A', 'S'), ('A', 'S', 'S'), ('S', 'A', 'S'), ('S', 'S', 'S')}"
            ]
          },
          "metadata": {},
          "execution_count": 74
        }
      ]
    },
    {
      "cell_type": "code",
      "source": [
        "E=E_1.union(E_2.union(E_3))\n",
        "E"
      ],
      "metadata": {
        "colab": {
          "base_uri": "https://localhost:8080/"
        },
        "id": "Q3r5ARDk3BSJ",
        "outputId": "bde64867-b477-4191-beac-54cceae36bf6"
      },
      "execution_count": 75,
      "outputs": [
        {
          "output_type": "execute_result",
          "data": {
            "text/plain": [
              "{('A', 'A', 'S'),\n",
              " ('A', 'S', 'A'),\n",
              " ('A', 'S', 'S'),\n",
              " ('S', 'A', 'A'),\n",
              " ('S', 'A', 'S'),\n",
              " ('S', 'S', 'A'),\n",
              " ('S', 'S', 'S')}"
            ]
          },
          "metadata": {},
          "execution_count": 75
        }
      ]
    },
    {
      "cell_type": "markdown",
      "source": [
        "Sabemos que la probabilidad de que por lo menos un evento sea sol esta dada por\n",
        "$$\\mathbb{P}(E)=1-\\mathbb{P}(A)$$\n",
        "donde\n",
        "\n",
        "$\\mathbb{P}(A)$ es la probabilidad de que todos los resultados salgan Águilas, i.e que es el único evento que no nos interesa contar para el evento $E$\n"
      ],
      "metadata": {
        "id": "oZcJITzzsU7x"
      }
    },
    {
      "cell_type": "code",
      "source": [
        "#Utilizando la función para que el resultado nos de fracción\n",
        "P_E=1-p(A,Omega)\n",
        "P_E"
      ],
      "metadata": {
        "colab": {
          "base_uri": "https://localhost:8080/"
        },
        "id": "xL6wwD3bxnsX",
        "outputId": "622d060e-a258-4424-8e42-cb1466ce8645"
      },
      "execution_count": 70,
      "outputs": [
        {
          "output_type": "execute_result",
          "data": {
            "text/plain": [
              "Fraction(7, 8)"
            ]
          },
          "metadata": {},
          "execution_count": 70
        }
      ]
    },
    {
      "cell_type": "code",
      "source": [
        "#O de igual forma puede obtenerlo directamente ya teniendo el evento E\n",
        "P_EO=p(E,Omega)\n",
        "P_EO"
      ],
      "metadata": {
        "colab": {
          "base_uri": "https://localhost:8080/"
        },
        "id": "GWiA6NCM0T-5",
        "outputId": "b6d52285-e496-40b1-e7bd-4ccd1c3f7645"
      },
      "execution_count": 71,
      "outputs": [
        {
          "output_type": "execute_result",
          "data": {
            "text/plain": [
              "Fraction(7, 8)"
            ]
          },
          "metadata": {},
          "execution_count": 71
        }
      ]
    }
  ]
}